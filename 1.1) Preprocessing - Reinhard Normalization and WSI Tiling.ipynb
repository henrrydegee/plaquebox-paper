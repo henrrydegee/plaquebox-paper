{
 "cells": [
  {
   "cell_type": "markdown",
   "metadata": {},
   "source": [
    "### 1.1 Preprocessing - Reinhard Normalization and WSI Tiling\n",
    "\n",
    "As a first preprocessing step, all slides were color normalized with respect to a reference image selected by an expert neuropathologist. Color normalization was performed using the method described by [Reinhard et. al](https://ieeexplore.ieee.org/document/946629).\n",
    "\n",
    "The resulting color normalized whole slide images were tiled using PyVips to generate 1536 x 1536 images patches."
   ]
  },
  {
   "cell_type": "code",
   "execution_count": 1,
   "metadata": {},
   "outputs": [],
   "source": [
    "import os\n",
    "import glob\n",
    "import numpy as np\n",
    "import cv2\n",
    "import matplotlib.pyplot as plt\n",
    "import pyvips as Vips\n",
    "from tqdm import tqdm\n",
    "\n",
    "from utils import vips_utils, normalize"
   ]
  },
  {
   "cell_type": "code",
   "execution_count": 2,
   "metadata": {},
   "outputs": [],
   "source": [
    "TRAIN_WSI_DIR = 'data/Dataset 1a Development_train/'              # WSIs in the training set\n",
    "#VAL_WSI_DIR = 'data/Dataset 1b Development_validation/'           # WSIs in the validation set\n",
    "TEST_WSI_DIR = 'data/box/'\n",
    "\n",
    "SAVE_DIR = 'data/norm_tiles/'"
   ]
  },
  {
   "cell_type": "code",
   "execution_count": 3,
   "metadata": {},
   "outputs": [],
   "source": [
    "if not os.path.exists(SAVE_DIR):\n",
    "        os.makedirs(SAVE_DIR)"
   ]
  },
  {
   "cell_type": "code",
   "execution_count": 4,
   "metadata": {},
   "outputs": [],
   "source": [
    "ref_imagename = 'NA5002_2AB.svs'\n",
    "#ref_imagename = 'NA3777-02_AB.svs'"
   ]
  },
  {
   "cell_type": "code",
   "execution_count": 5,
   "metadata": {},
   "outputs": [
    {
     "name": "stdout",
     "output_type": "stream",
     "text": [
      "['NA3777-02_AB.svs', 'NA4077-02_AB.svs', 'NA4092-02_AB.svs', 'NA4107-02_AB.svs', 'NA4160-02_AB.svs', 'NA4195-02_AB.svs', 'NA4256-02_AB.svs', 'NA4299-02_AB.svs', 'NA4391-02_AB.svs', 'NA4450-02_AB.svs', 'NA4463-02_AB.svs', 'NA4471-02_AB.svs', 'NA4553-02_AB.svs', 'NA4626-02_AB.svs', 'NA4672-02_AB.svs', 'NA4675-02_AB.svs', 'NA4691-02_AB.svs', 'NA4695-02_AB.svs', 'NA5002_2AB.svs']\n"
     ]
    }
   ],
   "source": [
    "wsi_train = os.listdir(TRAIN_WSI_DIR)\n",
    "#wsi_val = os.listdir(VAL_WSI_DIR)\n",
    "wsi_test = os.listdir(TEST_WSI_DIR)\n",
    "\n",
    "#imagenames = sorted(wsi_val + wsi_train)\n",
    "imagenames = sorted(wsi_test + [ref_imagename])\n",
    "#imagenames.remove('NA5005-02_AB.svs')             # this WSI was digitalized at 40x, need resize down to 20x\n",
    "#imagenames.append('NA5005-02_AB.svs')\n",
    "print(imagenames)"
   ]
  },
  {
   "cell_type": "code",
   "execution_count": 6,
   "metadata": {},
   "outputs": [
    {
     "name": "stdout",
     "output_type": "stream",
     "text": [
      "CPU times: user 34min 42s, sys: 1min 15s, total: 35min 58s\n",
      "Wall time: 11min 9s\n"
     ]
    }
   ],
   "source": [
    "%%time\n",
    "# Load reference image, fit Reinhard normalizer\n",
    "ref_image = Vips.Image.new_from_file(TRAIN_WSI_DIR + ref_imagename, level=0)\n",
    "#ref_image = Vips.Image.new_from_file(TEST_WSI_DIR + ref_imagename, level=0)\n",
    "\n",
    "normalizer = normalize.Reinhard()\n",
    "normalizer.fit(ref_image)"
   ]
  },
  {
   "cell_type": "code",
   "execution_count": 7,
   "metadata": {},
   "outputs": [
    {
     "name": "stderr",
     "output_type": "stream",
     "text": [
      "\r",
      "  0%|          | 0/18 [00:00<?, ?it/s]"
     ]
    },
    {
     "name": "stdout",
     "output_type": "stream",
     "text": [
      "Loaded Image: data/box/NA3777-02_AB.svs\n"
     ]
    },
    {
     "name": "stderr",
     "output_type": "stream",
     "text": [
      "\r",
      "  6%|▌         | 1/18 [17:48<5:02:39, 1068.23s/it]"
     ]
    },
    {
     "name": "stdout",
     "output_type": "stream",
     "text": [
      "Loaded Image: data/box/NA4077-02_AB.svs\n"
     ]
    },
    {
     "name": "stderr",
     "output_type": "stream",
     "text": [
      "\r",
      " 11%|█         | 2/18 [41:55<5:15:11, 1181.99s/it]"
     ]
    },
    {
     "name": "stdout",
     "output_type": "stream",
     "text": [
      "Loaded Image: data/box/NA4092-02_AB.svs\n"
     ]
    },
    {
     "name": "stderr",
     "output_type": "stream",
     "text": [
      "\r",
      " 17%|█▋        | 3/18 [1:03:22<5:03:23, 1213.53s/it]"
     ]
    },
    {
     "name": "stdout",
     "output_type": "stream",
     "text": [
      "Loaded Image: data/box/NA4107-02_AB.svs\n"
     ]
    },
    {
     "name": "stderr",
     "output_type": "stream",
     "text": [
      "\r",
      " 22%|██▏       | 4/18 [1:20:34<4:30:24, 1158.87s/it]"
     ]
    },
    {
     "name": "stdout",
     "output_type": "stream",
     "text": [
      "Loaded Image: data/box/NA4160-02_AB.svs\n"
     ]
    },
    {
     "name": "stderr",
     "output_type": "stream",
     "text": [
      "\r",
      " 28%|██▊       | 5/18 [1:38:00<4:03:47, 1125.23s/it]"
     ]
    },
    {
     "name": "stdout",
     "output_type": "stream",
     "text": [
      "Loaded Image: data/box/NA4195-02_AB.svs\n"
     ]
    },
    {
     "name": "stderr",
     "output_type": "stream",
     "text": [
      "\r",
      " 33%|███▎      | 6/18 [1:53:46<3:34:17, 1071.48s/it]"
     ]
    },
    {
     "name": "stdout",
     "output_type": "stream",
     "text": [
      "Loaded Image: data/box/NA4256-02_AB.svs\n"
     ]
    },
    {
     "name": "stderr",
     "output_type": "stream",
     "text": [
      "\r",
      " 39%|███▉      | 7/18 [2:14:26<3:25:40, 1121.86s/it]"
     ]
    },
    {
     "name": "stdout",
     "output_type": "stream",
     "text": [
      "Loaded Image: data/box/NA4299-02_AB.svs\n"
     ]
    },
    {
     "name": "stderr",
     "output_type": "stream",
     "text": [
      "\r",
      " 44%|████▍     | 8/18 [2:32:34<3:05:16, 1111.65s/it]"
     ]
    },
    {
     "name": "stdout",
     "output_type": "stream",
     "text": [
      "Loaded Image: data/box/NA4391-02_AB.svs\n"
     ]
    },
    {
     "name": "stderr",
     "output_type": "stream",
     "text": [
      "\r",
      " 50%|█████     | 9/18 [2:49:25<2:42:14, 1081.61s/it]"
     ]
    },
    {
     "name": "stdout",
     "output_type": "stream",
     "text": [
      "Loaded Image: data/box/NA4450-02_AB.svs\n"
     ]
    },
    {
     "name": "stderr",
     "output_type": "stream",
     "text": [
      "\r",
      " 56%|█████▌    | 10/18 [3:08:40<2:27:08, 1103.54s/it]"
     ]
    },
    {
     "name": "stdout",
     "output_type": "stream",
     "text": [
      "Loaded Image: data/box/NA4463-02_AB.svs\n"
     ]
    },
    {
     "name": "stderr",
     "output_type": "stream",
     "text": [
      "\r",
      " 61%|██████    | 11/18 [3:26:00<2:06:32, 1084.64s/it]"
     ]
    },
    {
     "name": "stdout",
     "output_type": "stream",
     "text": [
      "Loaded Image: data/Dataset 1a Development_train/NA4471-02_AB.svs\n"
     ]
    },
    {
     "name": "stderr",
     "output_type": "stream",
     "text": [
      "\r",
      " 67%|██████▋   | 12/18 [3:43:08<1:46:45, 1067.51s/it]"
     ]
    },
    {
     "name": "stdout",
     "output_type": "stream",
     "text": [
      "Loaded Image: data/box/NA4553-02_AB.svs\n"
     ]
    },
    {
     "name": "stderr",
     "output_type": "stream",
     "text": [
      "\r",
      " 72%|███████▏  | 13/18 [4:05:04<1:35:11, 1142.22s/it]"
     ]
    },
    {
     "name": "stdout",
     "output_type": "stream",
     "text": [
      "Loaded Image: data/box/NA4626-02_AB.svs\n"
     ]
    },
    {
     "name": "stderr",
     "output_type": "stream",
     "text": [
      "\r",
      " 78%|███████▊  | 14/18 [4:19:11<1:10:13, 1053.41s/it]"
     ]
    },
    {
     "name": "stdout",
     "output_type": "stream",
     "text": [
      "Loaded Image: data/box/NA4672-02_AB.svs\n"
     ]
    },
    {
     "name": "stderr",
     "output_type": "stream",
     "text": [
      "\r",
      " 83%|████████▎ | 15/18 [4:31:32<47:59, 959.93s/it]   "
     ]
    },
    {
     "name": "stdout",
     "output_type": "stream",
     "text": [
      "Loaded Image: data/box/NA4675-02_AB.svs\n"
     ]
    },
    {
     "name": "stderr",
     "output_type": "stream",
     "text": [
      "\r",
      " 89%|████████▉ | 16/18 [4:48:49<32:45, 982.96s/it]"
     ]
    },
    {
     "name": "stdout",
     "output_type": "stream",
     "text": [
      "Loaded Image: data/box/NA4691-02_AB.svs\n"
     ]
    },
    {
     "name": "stderr",
     "output_type": "stream",
     "text": [
      "\r",
      " 94%|█████████▍| 17/18 [5:04:20<16:07, 967.46s/it]"
     ]
    },
    {
     "name": "stdout",
     "output_type": "stream",
     "text": [
      "Loaded Image: data/box/NA4695-02_AB.svs\n"
     ]
    },
    {
     "name": "stderr",
     "output_type": "stream",
     "text": [
      "100%|██████████| 18/18 [5:20:38<00:00, 970.56s/it]\n"
     ]
    }
   ],
   "source": [
    "stats_dict = {}\n",
    "for imagename in tqdm(imagenames[:-1]):\n",
    "    try:\n",
    "        vips_img = Vips.Image.new_from_file(TRAIN_WSI_DIR + imagename, level=0)\n",
    "        print(\"Loaded Image: \" + TRAIN_WSI_DIR + imagename)\n",
    "        #vips_img = Vips.Image.new_from_file(TEST_WSI_DIR + imagename, level=0)\n",
    "    except:\n",
    "        #vips_img = Vips.Image.new_from_file(VAL_WSI_DIR + imagename, level=0)\n",
    "        vips_img = Vips.Image.new_from_file(TEST_WSI_DIR + imagename, level=0)\n",
    "        print(\"Loaded Image: \" + TEST_WSI_DIR + imagename)\n",
    "    out = normalizer.transform(vips_img)\n",
    "    out.filename = vips_img.filename\n",
    "    vips_utils.save_and_tile(out, SAVE_DIR)\n",
    "    stats_dict[imagename] = normalizer.image_stats"
   ]
  },
  {
   "cell_type": "code",
   "execution_count": 8,
   "metadata": {},
   "outputs": [],
   "source": [
    "# Resize the single 40x image down to 20x\n",
    "# for imagename in tqdm(imagenames[-1:]):\n",
    "#     vips_img = Vips.Image.new_from_file(TRAIN_WSI_DIR + imagename, level=0)\n",
    "#     vips_img = vips_img.resize(0.5)\n",
    "#     out = normalizer.transform(vips_img)\n",
    "#     out.filename = vips_img.filename\n",
    "#     vips_utils.save_and_tile(out, SAVE_DIR)\n",
    "#     stats_dict[imagename] = normalizer.image_stats"
   ]
  },
  {
   "cell_type": "code",
   "execution_count": 9,
   "metadata": {},
   "outputs": [],
   "source": [
    "import pandas as pd\n",
    "stats = pd.DataFrame(stats_dict)"
   ]
  },
  {
   "cell_type": "code",
   "execution_count": 10,
   "metadata": {},
   "outputs": [],
   "source": [
    "stats = stats.transpose()"
   ]
  },
  {
   "cell_type": "code",
   "execution_count": 11,
   "metadata": {},
   "outputs": [],
   "source": [
    "stats.columns = 'means', 'stds'"
   ]
  },
  {
   "cell_type": "code",
   "execution_count": 12,
   "metadata": {},
   "outputs": [
    {
     "name": "stdout",
     "output_type": "stream",
     "text": [
      "                                                              means  \\\n",
      "NA3777-02_AB.svs  (84.87683078375069, 1.883834276086116, 6.54897...   \n",
      "NA4077-02_AB.svs  (91.31315579600997, 0.7904653477819062, 0.5140...   \n",
      "NA4092-02_AB.svs  (87.88871953607287, 1.1075666993212976, 0.8033...   \n",
      "NA4107-02_AB.svs  (90.94294739156933, 0.5887239399026771, 0.9401...   \n",
      "NA4160-02_AB.svs  (88.89899260672101, 0.9974418293237804, 0.3308...   \n",
      "NA4195-02_AB.svs  (86.47197838386131, 1.6366618861228275, -0.850...   \n",
      "NA4256-02_AB.svs  (87.56450328069307, 0.8650946384410637, 0.6600...   \n",
      "NA4299-02_AB.svs  (86.76713213580769, 1.4506292525488813, -1.039...   \n",
      "NA4391-02_AB.svs  (82.77101907232307, 1.8684124681105576, -2.024...   \n",
      "NA4450-02_AB.svs  (88.854731444645, 0.6891529168668056, 0.287143...   \n",
      "NA4463-02_AB.svs  (87.63791836861964, 1.2089569343004831, -2.268...   \n",
      "NA4471-02_AB.svs  (91.11351936054756, 0.6167910832749283, 1.1381...   \n",
      "NA4553-02_AB.svs  (89.445133374048, 0.8088347968056673, -2.10258...   \n",
      "NA4626-02_AB.svs  (88.80736081174301, 0.5035274274088067, 0.1786...   \n",
      "NA4672-02_AB.svs  (90.54923343657832, 0.5536931115542902, -0.568...   \n",
      "NA4675-02_AB.svs  (87.86077144308909, 0.9125827374850062, -1.226...   \n",
      "NA4691-02_AB.svs  (89.3584098049383, 0.5353071974659961, -0.0415...   \n",
      "NA4695-02_AB.svs  (86.43177491613253, 1.1903603895019979, 1.9656...   \n",
      "\n",
      "                                                               stds  \n",
      "NA3777-02_AB.svs  (14.247819396713503, 3.8341760541289993, 8.065...  \n",
      "NA4077-02_AB.svs  (9.036937140041726, 2.3375789731676364, 3.5106...  \n",
      "NA4092-02_AB.svs  (10.79319347642459, 3.5167614899631077, 4.7483...  \n",
      "NA4107-02_AB.svs  (9.001454686934935, 2.9486192593762786, 4.6212...  \n",
      "NA4160-02_AB.svs  (11.644025727807659, 3.4870509397214766, 5.201...  \n",
      "NA4195-02_AB.svs  (11.683442161487863, 4.0043109410462945, 5.825...  \n",
      "NA4256-02_AB.svs  (11.2889092941105, 3.4993036647137177, 5.38925...  \n",
      "NA4299-02_AB.svs  (10.866500550858165, 3.4531564523674376, 5.331...  \n",
      "NA4391-02_AB.svs  (15.429598434909662, 3.715407401255153, 5.9052...  \n",
      "NA4450-02_AB.svs  (12.289623720811571, 3.114867911678231, 4.8106...  \n",
      "NA4463-02_AB.svs  (10.50289910482169, 3.2951738873217513, 4.7313...  \n",
      "NA4471-02_AB.svs  (7.3272778743495435, 2.1548934342353556, 3.475...  \n",
      "NA4553-02_AB.svs  (10.109009751641983, 1.8738566781360095, 4.023...  \n",
      "NA4626-02_AB.svs  (10.045342551225128, 3.4393120347683315, 4.442...  \n",
      "NA4672-02_AB.svs  (8.673281922526971, 3.08890594111748, 4.649906...  \n",
      "NA4675-02_AB.svs  (10.426726050238079, 3.377455255120187, 5.0604...  \n",
      "NA4691-02_AB.svs  (10.12260779202205, 3.352435932042788, 4.54378...  \n",
      "NA4695-02_AB.svs  (12.05018805188454, 3.39001744852135, 5.317499...  \n"
     ]
    }
   ],
   "source": [
    "print(stats)"
   ]
  },
  {
   "cell_type": "code",
   "execution_count": null,
   "metadata": {},
   "outputs": [],
   "source": []
  }
 ],
 "metadata": {
  "kernelspec": {
   "display_name": "Python 3",
   "language": "python",
   "name": "python3"
  },
  "language_info": {
   "codemirror_mode": {
    "name": "ipython",
    "version": 3
   },
   "file_extension": ".py",
   "mimetype": "text/x-python",
   "name": "python",
   "nbconvert_exporter": "python",
   "pygments_lexer": "ipython3",
   "version": "3.6.5"
  }
 },
 "nbformat": 4,
 "nbformat_minor": 2
}
