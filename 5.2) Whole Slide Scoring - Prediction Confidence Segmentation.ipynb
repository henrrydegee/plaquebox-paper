{
 "cells": [
  {
   "cell_type": "markdown",
   "metadata": {},
   "source": [
    "### 5.2 Whole Slide Scoring - Prediction Confidence Segmentation\n",
    "\n",
    "Prediction confidence heatmaps were segmented to generate the CNN model-based whole-slide scores. \n",
    "\n",
    "First, a CNN confidence threshold was applied to the heatmaps, with only prediction confidences higher than the threshold retained, indicating the existences of plaques predicted with high confidence. Morphological opening and closing operations were then performed to smooth the masks, and prediction areas exceeding a size threshold set to eliminate CNN-noise provided the predicted quantities of Aβ pathologies (ie. cored plaque, diffuse plaque, and CAA). \n",
    "\n",
    "These two hyperparameters, CNN confidence threshold (core: 0.1; diffuse: 0.95; CAA: 0.9) and size threshold (cored: 100; diffuse: 1; CAA: 200), were optimized exclusively by statistical analysis on the combined training and validation sets (32 WSIs). These were then used on the hold-out test set with 30 unseen WSIs to show the generalizability. "
   ]
  },
  {
   "cell_type": "code",
   "execution_count": 1,
   "metadata": {},
   "outputs": [],
   "source": [
    "import csv\n",
    "import glob, os\n",
    "\n",
    "import cv2\n",
    "import numpy as np\n",
    "import pandas as pd\n",
    "import matplotlib.pyplot as plt\n",
    "from skimage import measure\n",
    "from scipy import stats\n",
    "\n",
    "from tqdm import tqdm"
   ]
  },
  {
   "cell_type": "code",
   "execution_count": 27,
   "metadata": {},
   "outputs": [],
   "source": [
    "CSV_DIR = 'data/outputs/CNNscore/WSI_CERAD_AREA.csv'\n",
    "HEATMAP_DIR = 'data/outputs/heatmaps'\n",
    "HEATMAP_DIR = 'data/outputs/heatmaps_stride16/'\n",
    "SAVE_DIR = 'data/outputs/CNNscore/'"
   ]
  },
  {
   "cell_type": "code",
   "execution_count": 19,
   "metadata": {},
   "outputs": [
    {
     "name": "stdout",
     "output_type": "stream",
     "text": [
      "['NA3777-02_AB', 'NA4077-02_AB', 'NA4092-02_AB', 'NA4107-02_AB', 'NA4160-02_AB', 'NA4195-02_AB', 'NA4256-02_AB', 'NA4299-02_AB', 'NA4391-02_AB', 'NA4450-02_AB', 'NA4463-02_AB', 'NA4471-02_AB', 'NA4553-02_AB', 'NA4626-02_AB', 'NA4672-02_AB', 'NA4675-02_AB', 'NA4691-02_AB', 'NA4695-02_AB']\n"
     ]
    }
   ],
   "source": [
    "# IMG_DIR = 'data/norm_tiles'\n",
    "filenames = sorted(os.listdir(HEATMAP_DIR))\n",
    "filenames = [os.path.splitext(file)[0] for file in filenames]\n",
    "print(filenames)"
   ]
  },
  {
   "cell_type": "code",
   "execution_count": 22,
   "metadata": {},
   "outputs": [],
   "source": [
    "test = pd.DataFrame({\"WSI_ID\": filenames})\n",
    "test.to_csv(CSV_DIR, index=False)"
   ]
  },
  {
   "cell_type": "code",
   "execution_count": 23,
   "metadata": {},
   "outputs": [
    {
     "name": "stdout",
     "output_type": "stream",
     "text": [
      "          WSI_ID\n",
      "0   NA3777-02_AB\n",
      "1   NA4077-02_AB\n",
      "2   NA4092-02_AB\n",
      "3   NA4107-02_AB\n",
      "4   NA4160-02_AB\n",
      "5   NA4195-02_AB\n",
      "6   NA4256-02_AB\n",
      "7   NA4299-02_AB\n",
      "8   NA4391-02_AB\n",
      "9   NA4450-02_AB\n",
      "10  NA4463-02_AB\n",
      "11  NA4471-02_AB\n",
      "12  NA4553-02_AB\n",
      "13  NA4626-02_AB\n",
      "14  NA4672-02_AB\n",
      "15  NA4675-02_AB\n",
      "16  NA4691-02_AB\n",
      "17  NA4695-02_AB\n"
     ]
    }
   ],
   "source": [
    "test = pd.read_csv(CSV_DIR)\n",
    "print(test)"
   ]
  },
  {
   "cell_type": "code",
   "execution_count": 3,
   "metadata": {},
   "outputs": [],
   "source": [
    "if not os.path.exists(SAVE_DIR):\n",
    "        os.makedirs(SAVE_DIR)"
   ]
  },
  {
   "cell_type": "code",
   "execution_count": 24,
   "metadata": {},
   "outputs": [],
   "source": [
    "file = pd.read_csv(CSV_DIR)\n",
    "filenames = list(file['WSI_ID'])\n",
    "img_class = ['cored', 'diffuse', 'caa']\n",
    "\n",
    "# two hyperparameters\n",
    "confidence_thresholds = [0.1, 0.95, 0.9]\n",
    "pixel_thresholds = [100, 1, 200]"
   ]
  },
  {
   "cell_type": "code",
   "execution_count": 69,
   "metadata": {},
   "outputs": [],
   "source": [
    "# UserWarning: The argument 'neighbors' is deprecated and will be removed in scikit-image 0.18,\n",
    "# use 'connectivity' instead. For neighbors=8, use connectivity=2\n",
    "#   This is separate from the ipykernel package so we can avoid doing imports until\n",
    "\n",
    "def count_blobs(mask,\n",
    "               threshold=1500):\n",
    "    labels = measure.label(mask, neighbors=8, background=0)\n",
    "    labels = measure.label(mask, connectivity=2, background=0)\n",
    "    img_mask = np.zeros(mask.shape, dtype='uint8')\n",
    "    labeled_mask = np.zeros(mask.shape, dtype='uint16')\n",
    "    sizes = []\n",
    "    locations = []\n",
    "    \n",
    "    # loop over the unique components\n",
    "    for label in np.unique(labels):\n",
    "        # if this is the background label, ignore it\n",
    "        if label == 0:\n",
    "            continue\n",
    "        # otherwise, construct the label mask and count the\n",
    "        # number of pixels \n",
    "        labelMask = np.zeros(mask.shape, dtype=\"uint8\")\n",
    "        labelMask[labels == label] = 255\n",
    "        numPixels = cv2.countNonZero(labelMask)\n",
    "        \n",
    "        # if the number of pixels in the component is sufficiently\n",
    "        # large, then add it to our mask of \"large blobs\"\n",
    "        if numPixels > threshold:\n",
    "            sizes.append(numPixels)\n",
    "            img_mask = cv2.add(img_mask, labelMask)\n",
    "            \n",
    "            # Save confirmed unique location of plaque\n",
    "            labeled_mask[labels==label] = label\n",
    "#             location = np.where(labelMask == 255)\n",
    "#             locations.append(location)\n",
    "\n",
    "#             row_loc, col_loc = np.where(labelMask == 255)\n",
    "#             print(\"row_loc, col_loc\", (row_loc, col_loc))\n",
    "\n",
    "    return sizes, img_mask, labeled_mask"
   ]
  },
  {
   "cell_type": "code",
   "execution_count": 43,
   "metadata": {},
   "outputs": [],
   "source": [
    "%matplotlib inline\n",
    "from mpl_toolkits.axes_grid1 import make_axes_locatable\n",
    "def plot_mask(mask_array) :\n",
    "    fig = plt.figure(figsize=(45,15))\n",
    "#     ax = plt.figure(figsize=(45,15))\n",
    "\n",
    "    ax = fig.add_subplot(111)\n",
    "\n",
    "    im = ax.imshow(mask_array, cmap=plt.cm.get_cmap('viridis', 20), vmin=0, vmax=1)\n",
    "    divider = make_axes_locatable(ax)\n",
    "    cax = divider.append_axes(\"right\", size=\"5%\", pad=0.1)\n",
    "    plt.colorbar(im, cax=cax, ticks=[0.0, 0.25, 0.5, 0.75, 1.0])\n",
    "    \n",
    "    return plt.show()"
   ]
  },
  {
   "cell_type": "code",
   "execution_count": 75,
   "metadata": {},
   "outputs": [],
   "source": [
    "from PIL import Image\n",
    "def saveMask(mask_array, save_dir) :\n",
    "    \n",
    "    mask_array = np.repeat(mask_array[:,:, np.newaxis], 3, axis=2)\n",
    "    \n",
    "    # mask_array[:,:,0] = RED, mask_array[:,:,1] = Green, mask_array[:,:,2] = Blue\n",
    "    idx = np.where(mask_array[:,:,0] == 255)  # Index of label 1 (WM)\n",
    "\n",
    "    # For label 0, leave as black color\n",
    "    # For label 1, set to cyan color: R0G255B255\n",
    "    mask_array[:,:,0].flat[np.ravel_multi_index(idx, mask_array[:,:,0].shape)] = 0\n",
    "    mask_array[:,:,1].flat[np.ravel_multi_index(idx, mask_array[:,:,1].shape)] = 255\n",
    "    mask_array[:,:,2].flat[np.ravel_multi_index(idx, mask_array[:,:,2].shape)] = 255\n",
    "#     # For label 2, set to yellow color: R255G255B0\n",
    "#     mask_array[:,:,0].flat[np.ravel_multi_index(idx_2, mask_array[:,:,0].shape)] = 255\n",
    "#     mask_array[:,:,1].flat[np.ravel_multi_index(idx_2, mask_array[:,:,1].shape)] = 255\n",
    "#     mask_array[:,:,2].flat[np.ravel_multi_index(idx_2, mask_array[:,:,2].shape)] = 0\n",
    "\n",
    "    mask_array = mask_array.astype(np.uint8) # PIL save only accepts uint8 {0,..,255}\n",
    "    save_img = Image.fromarray(mask_array, 'RGB')\n",
    "    save_img.save(save_dir)\n",
    "    print(\"Saved at: \" + save_dir)"
   ]
  },
  {
   "cell_type": "code",
   "execution_count": null,
   "metadata": {},
   "outputs": [],
   "source": [
    "def locatePlaque(mask_array, seg_array) :\n",
    "    \n",
    "    idx = np.where(mask_array == 255)\n",
    "    seg_array[idx]"
   ]
  },
  {
   "cell_type": "code",
   "execution_count": 78,
   "metadata": {},
   "outputs": [
    {
     "name": "stdout",
     "output_type": "stream",
     "text": [
      "['NA4672-02_AB.npy', 'NA4675-02_AB.npy', 'NA4691-02_AB.npy', 'NA4695-02_AB.npy', 'NA4107-02_AB.npy', 'NA4463-02_AB.npy', 'NA4391-02_AB.npy', 'NA4160-02_AB.npy', 'NA4471-02_AB.npy', 'NA4626-02_AB.npy', 'NA3777-02_AB.npy', 'NA4553-02_AB.npy', 'NA4299-02_AB.npy', 'NA4092-02_AB.npy', 'NA4077-02_AB.npy', 'NA4195-02_AB.npy', 'NA4256-02_AB.npy', 'NA4450-02_AB.npy']\n"
     ]
    }
   ],
   "source": [
    "BRAINSEG_NP_DIR = 'data/brainseg/numpy/'\n",
    "SAVE_IMG_DIR = 'data/outputs/masked_plaque/images/'\n",
    "SAVE_NP_DIR = 'data/outputs/masked_plaque/numpy/'\n",
    "print(os.listdir(BRAINSEG_NP_DIR))"
   ]
  },
  {
   "cell_type": "code",
   "execution_count": 76,
   "metadata": {},
   "outputs": [
    {
     "name": "stderr",
     "output_type": "stream",
     "text": [
      "0it [00:00, ?it/s]/usr/local/lib/python3.6/site-packages/ipykernel_launcher.py:7: UserWarning: The argument 'neighbors' is deprecated and will be removed in scikit-image 0.18, use 'connectivity' instead. For neighbors=8, use connectivity=2\n",
      "  import sys\n",
      "0it [00:07, ?it/s]\n"
     ]
    },
    {
     "ename": "KeyboardInterrupt",
     "evalue": "",
     "output_type": "error",
     "traceback": [
      "\u001b[0;31m---------------------------------------------------------------------------\u001b[0m",
      "\u001b[0;31mKeyboardInterrupt\u001b[0m                         Traceback (most recent call last)",
      "\u001b[0;32m<ipython-input-76-84f8bc1e9c7f>\u001b[0m in \u001b[0;36m<module>\u001b[0;34m\u001b[0m\n\u001b[1;32m     32\u001b[0m \u001b[0;31m#         plot_mask(closing)\u001b[0m\u001b[0;34m\u001b[0m\u001b[0;34m\u001b[0m\u001b[0m\n\u001b[1;32m     33\u001b[0m \u001b[0;34m\u001b[0m\u001b[0m\n\u001b[0;32m---> 34\u001b[0;31m         \u001b[0mlabels\u001b[0m\u001b[0;34m,\u001b[0m \u001b[0mimg_mask\u001b[0m\u001b[0;34m,\u001b[0m \u001b[0mlabeled_mask\u001b[0m \u001b[0;34m=\u001b[0m \u001b[0mcount_blobs\u001b[0m\u001b[0;34m(\u001b[0m\u001b[0mclosing\u001b[0m\u001b[0;34m,\u001b[0m \u001b[0mthreshold\u001b[0m\u001b[0;34m=\u001b[0m\u001b[0mpixel_threshold\u001b[0m\u001b[0;34m)\u001b[0m\u001b[0;34m\u001b[0m\u001b[0m\n\u001b[0m\u001b[1;32m     35\u001b[0m \u001b[0;34m\u001b[0m\u001b[0m\n\u001b[1;32m     36\u001b[0m         \u001b[0msave_img\u001b[0m \u001b[0;34m=\u001b[0m \u001b[0mSAVE_IMG_DIR\u001b[0m \u001b[0;34m+\u001b[0m \u001b[0mWSIname\u001b[0m\u001b[0;31m \u001b[0m\u001b[0;31m\\\u001b[0m\u001b[0;34m\u001b[0m\u001b[0m\n",
      "\u001b[0;32m<ipython-input-69-99d3476cf085>\u001b[0m in \u001b[0;36mcount_blobs\u001b[0;34m(mask, threshold)\u001b[0m\n\u001b[1;32m     20\u001b[0m         \u001b[0;31m# number of pixels\u001b[0m\u001b[0;34m\u001b[0m\u001b[0;34m\u001b[0m\u001b[0m\n\u001b[1;32m     21\u001b[0m         \u001b[0mlabelMask\u001b[0m \u001b[0;34m=\u001b[0m \u001b[0mnp\u001b[0m\u001b[0;34m.\u001b[0m\u001b[0mzeros\u001b[0m\u001b[0;34m(\u001b[0m\u001b[0mmask\u001b[0m\u001b[0;34m.\u001b[0m\u001b[0mshape\u001b[0m\u001b[0;34m,\u001b[0m \u001b[0mdtype\u001b[0m\u001b[0;34m=\u001b[0m\u001b[0;34m\"uint8\"\u001b[0m\u001b[0;34m)\u001b[0m\u001b[0;34m\u001b[0m\u001b[0m\n\u001b[0;32m---> 22\u001b[0;31m         \u001b[0mlabelMask\u001b[0m\u001b[0;34m[\u001b[0m\u001b[0mlabels\u001b[0m \u001b[0;34m==\u001b[0m \u001b[0mlabel\u001b[0m\u001b[0;34m]\u001b[0m \u001b[0;34m=\u001b[0m \u001b[0;36m255\u001b[0m\u001b[0;34m\u001b[0m\u001b[0m\n\u001b[0m\u001b[1;32m     23\u001b[0m         \u001b[0mnumPixels\u001b[0m \u001b[0;34m=\u001b[0m \u001b[0mcv2\u001b[0m\u001b[0;34m.\u001b[0m\u001b[0mcountNonZero\u001b[0m\u001b[0;34m(\u001b[0m\u001b[0mlabelMask\u001b[0m\u001b[0;34m)\u001b[0m\u001b[0;34m\u001b[0m\u001b[0m\n\u001b[1;32m     24\u001b[0m \u001b[0;34m\u001b[0m\u001b[0m\n",
      "\u001b[0;31mKeyboardInterrupt\u001b[0m: "
     ]
    }
   ],
   "source": [
    "new_file = file\n",
    "for index in [0,1,2]:\n",
    "    preds = np.zeros(len(file))\n",
    "    confidence_threshold = confidence_thresholds[index]\n",
    "    pixel_threshold = pixel_thresholds[index]\n",
    "\n",
    "    for i, WSIname in tqdm(enumerate(filenames)):\n",
    "        try:\n",
    "            heatmap_path = HEATMAP_DIR+'new_WSI_heatmap_{}.npy'.format(WSIname)\n",
    "            h = np.load(heatmap_path)\n",
    "\n",
    "        except:\n",
    "            heatmap_path = HEATMAP_DIR+'{}.npy'.format(WSIname)\n",
    "            h = np.load(heatmap_path)\n",
    "            seg_path = BRAINSEG_NP_DIR+'{}.npy'.format(WSIname)\n",
    "            seg = np.load(seg_path)\n",
    "\n",
    "        mask = h[index] > confidence_threshold\n",
    "        mask = mask.astype(np.float32)\n",
    "        \n",
    "#         print(\"Initial Mask:\", mask)\n",
    "#         plot_mask(mask)\n",
    "\n",
    "        kernel = cv2.getStructuringElement(cv2.MORPH_CROSS,(5,5))\n",
    "\n",
    "        # Apply morphological closing, then opening operations \n",
    "        opening = cv2.morphologyEx(mask, cv2.MORPH_OPEN, kernel)\n",
    "        closing = cv2.morphologyEx(opening, cv2.MORPH_CLOSE, kernel)\n",
    "        \n",
    "#         print(\"Denoised Mask:\", closing)\n",
    "#         print(\"Denoised Mask Shape: \", closing.shape)\n",
    "#         plot_mask(closing)\n",
    "\n",
    "        labels, img_mask, labeled_mask = count_blobs(closing, threshold=pixel_threshold)\n",
    "    \n",
    "        save_img = SAVE_IMG_DIR + WSIname \\\n",
    "                    + \"_\" + img_class[index] + \".png\"\n",
    "        save_np = SAVE_NP_DIR + WSIname \\\n",
    "                    + \"_\" + img_class[index] + \".npy\"\n",
    "        np.save(save_np, labeled_mask)\n",
    "        saveMask(img_mask, save_img)\n",
    "        \n",
    "\n",
    "#         print(labels)\n",
    "#         print(img_mask.shape)\n",
    "        preds[i] = len(labels)\n",
    "\n",
    "    print(confidence_threshold, pixel_threshold)\n",
    "\n",
    "    new_file['CNN_{}_count'.format(img_class[index])] = preds\n",
    "\n",
    "# new_file.to_csv(SAVE_DIR+'CNN_vs_CERAD.csv', index=False)"
   ]
  },
  {
   "cell_type": "code",
   "execution_count": 65,
   "metadata": {},
   "outputs": [
    {
     "name": "stdout",
     "output_type": "stream",
     "text": [
      "(array([ 0, 70]),)\n",
      "(array([ 153,  154,  154, ..., 2718, 2718, 2718]), array([2081, 2080, 2081, ..., 2861, 2862, 2863]))\n"
     ]
    }
   ],
   "source": [
    "print(np.where(np.asarray(a) == 172))\n",
    "print(np.where(np.asarray(m) == 255))"
   ]
  },
  {
   "cell_type": "code",
   "execution_count": 79,
   "metadata": {},
   "outputs": [
    {
     "name": "stdout",
     "output_type": "stream",
     "text": [
      "Saved at: data/outputs/masked_plaque/images/NA3777-02_AB_cored.png\n"
     ]
    }
   ],
   "source": [
    "save_img = SAVE_IMG_DIR + WSIname \\\n",
    "                    + \"_\" + img_class[index] + \".png\"\n",
    "save_np = SAVE_NP_DIR + WSIname \\\n",
    "                    + \"_\" + img_class[index] + \".npy\"\n",
    "# np.save(save_np, labeled_mask)\n",
    "saveMask(img_mask, save_img)"
   ]
  },
  {
   "cell_type": "code",
   "execution_count": null,
   "metadata": {},
   "outputs": [],
   "source": [
    "# Original Code\n",
    "def count_blobs(mask,\n",
    "               threshold=1500):\n",
    "    labels = measure.label(mask, neighbors=8, background=0)\n",
    "    new_mask = np.zeros(mask.shape, dtype='uint8')\n",
    "    sizes = []\n",
    "    \n",
    "    # loop over the unique components\n",
    "    for label in np.unique(labels):\n",
    "        # if this is the background label, ignore it\n",
    "        if label == 0:\n",
    "            continue\n",
    "        # otherwise, construct the label mask and count the\n",
    "        # number of pixels \n",
    "        labelMask = np.zeros(mask.shape, dtype=\"uint8\")\n",
    "        labelMask[labels == label] = 255\n",
    "        numPixels = cv2.countNonZero(labelMask)\n",
    "        \n",
    "        # if the number of pixels in the component is sufficiently\n",
    "        # large, then add it to our mask of \"large blobs\"\n",
    "        if numPixels > threshold:\n",
    "            sizes.append(numPixels)\n",
    "            new_mask = cv2.add(new_mask, labelMask)\n",
    "\n",
    "    return sizes, new_mask"
   ]
  },
  {
   "cell_type": "code",
   "execution_count": null,
   "metadata": {},
   "outputs": [],
   "source": [
    "# Original Code\n",
    "new_file = file\n",
    "for index in [0,1,2]:\n",
    "    preds = np.zeros(len(file))\n",
    "    confidence_threshold = confidence_thresholds[index]\n",
    "    pixel_threshold = pixel_thresholds[index]\n",
    "\n",
    "    for i, WSIname in tqdm(enumerate(filenames)):\n",
    "        try:\n",
    "            heatmap_path = HEATMAP_DIR+'new_WSI_heatmap_{}.npy'.format(WSIname)\n",
    "            h = np.load(heatmap_path)\n",
    "\n",
    "        except:\n",
    "            heatmap_path = HEATMAP_DIR+'{}.npy'.format(WSIname)\n",
    "            h = np.load(heatmap_path)\n",
    "\n",
    "        mask = h[index] > confidence_threshold\n",
    "        mask = mask.astype(np.float32)\n",
    "\n",
    "        kernel = cv2.getStructuringElement(cv2.MORPH_CROSS,(5,5))\n",
    "\n",
    "        # Apply morphological closing, then opening operations \n",
    "        opening = cv2.morphologyEx(mask, cv2.MORPH_OPEN, kernel)\n",
    "        closing = cv2.morphologyEx(opening, cv2.MORPH_CLOSE, kernel)\n",
    "\n",
    "        a, m = count_blobs(closing, threshold=pixel_threshold)\n",
    "\n",
    "        preds[i] = len(a)\n",
    "\n",
    "    print(confidence_threshold, pixel_threshold)\n",
    "\n",
    "    new_file['CNN_{}_count'.format(img_class[index])] = preds\n",
    "\n",
    "new_file.to_csv(SAVE_DIR+'CNN_vs_CERAD.csv', index=False)"
   ]
  },
  {
   "cell_type": "code",
   "execution_count": 6,
   "metadata": {
    "scrolled": false
   },
   "outputs": [
    {
     "ename": "NameError",
     "evalue": "name 'new_file' is not defined",
     "output_type": "error",
     "traceback": [
      "\u001b[0;31m---------------------------------------------------------------------------\u001b[0m",
      "\u001b[0;31mNameError\u001b[0m                                 Traceback (most recent call last)",
      "\u001b[0;32m<ipython-input-6-a49fd5a864aa>\u001b[0m in \u001b[0;36m<module>\u001b[0;34m\u001b[0m\n\u001b[0;32m----> 1\u001b[0;31m \u001b[0mnew_file\u001b[0m\u001b[0;34m\u001b[0m\u001b[0;34m\u001b[0m\u001b[0m\n\u001b[0m",
      "\u001b[0;31mNameError\u001b[0m: name 'new_file' is not defined"
     ]
    }
   ],
   "source": [
    "new_file"
   ]
  }
 ],
 "metadata": {
  "kernelspec": {
   "display_name": "Python 3",
   "language": "python",
   "name": "python3"
  },
  "language_info": {
   "codemirror_mode": {
    "name": "ipython",
    "version": 3
   },
   "file_extension": ".py",
   "mimetype": "text/x-python",
   "name": "python",
   "nbconvert_exporter": "python",
   "pygments_lexer": "ipython3",
   "version": "3.6.5"
  }
 },
 "nbformat": 4,
 "nbformat_minor": 2
}
