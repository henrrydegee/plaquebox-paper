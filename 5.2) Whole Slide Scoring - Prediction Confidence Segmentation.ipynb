{
 "cells": [
  {
   "cell_type": "markdown",
   "metadata": {},
   "source": [
    "### 5.2 Whole Slide Scoring - Prediction Confidence Segmentation\n",
    "\n",
    "Prediction confidence heatmaps were segmented to generate the CNN model-based whole-slide scores. \n",
    "\n",
    "First, a CNN confidence threshold was applied to the heatmaps, with only prediction confidences higher than the threshold retained, indicating the existences of plaques predicted with high confidence. Morphological opening and closing operations were then performed to smooth the masks, and prediction areas exceeding a size threshold set to eliminate CNN-noise provided the predicted quantities of Aβ pathologies (ie. cored plaque, diffuse plaque, and CAA). \n",
    "\n",
    "These two hyperparameters, CNN confidence threshold (core: 0.1; diffuse: 0.95; CAA: 0.9) and size threshold (cored: 100; diffuse: 1; CAA: 200), were optimized exclusively by statistical analysis on the combined training and validation sets (32 WSIs). These were then used on the hold-out test set with 30 unseen WSIs to show the generalizability. "
   ]
  },
  {
   "cell_type": "code",
   "execution_count": 1,
   "metadata": {},
   "outputs": [],
   "source": [
    "import csv\n",
    "import glob, os\n",
    "\n",
    "import cv2\n",
    "import numpy as np\n",
    "import pandas as pd\n",
    "import matplotlib.pyplot as plt\n",
    "from skimage import measure\n",
    "from scipy import stats\n",
    "\n",
    "from tqdm import tqdm"
   ]
  },
  {
   "cell_type": "code",
   "execution_count": 4,
   "metadata": {},
   "outputs": [],
   "source": [
    "CSV_DIR = 'data/outputs/CNNscore/WSI_CERAD_AREA.csv'\n",
    "HEATMAP_DIR = 'data/outputs/heatmaps'\n",
    "# HEATMAP_DIR = 'data/outputs/heatmaps_stride16/'\n",
    "SAVE_DIR = 'data/outputs/CNNscore/'"
   ]
  },
  {
   "cell_type": "code",
   "execution_count": 5,
   "metadata": {},
   "outputs": [
    {
     "name": "stdout",
     "output_type": "stream",
     "text": [
      "['NA3777-02_AB', 'NA4077-02_AB']\n"
     ]
    }
   ],
   "source": [
    "# IMG_DIR = 'data/norm_tiles'\n",
    "filenames = sorted(os.listdir(HEATMAP_DIR))\n",
    "filenames = [os.path.splitext(file)[0] for file in filenames]\n",
    "print(filenames)"
   ]
  },
  {
   "cell_type": "code",
   "execution_count": 22,
   "metadata": {},
   "outputs": [],
   "source": [
    "test = pd.DataFrame({\"WSI_ID\": filenames})\n",
    "test.to_csv(CSV_DIR, index=False)"
   ]
  },
  {
   "cell_type": "code",
   "execution_count": 4,
   "metadata": {},
   "outputs": [
    {
     "name": "stdout",
     "output_type": "stream",
     "text": [
      "          WSI_ID\n",
      "0   NA3777-02_AB\n",
      "1   NA4077-02_AB\n",
      "2   NA4092-02_AB\n",
      "3   NA4107-02_AB\n",
      "4   NA4160-02_AB\n",
      "5   NA4195-02_AB\n",
      "6   NA4256-02_AB\n",
      "7   NA4299-02_AB\n",
      "8   NA4391-02_AB\n",
      "9   NA4450-02_AB\n",
      "10  NA4463-02_AB\n",
      "11  NA4471-02_AB\n",
      "12  NA4553-02_AB\n",
      "13  NA4626-02_AB\n",
      "14  NA4672-02_AB\n",
      "15  NA4675-02_AB\n",
      "16  NA4691-02_AB\n",
      "17  NA4695-02_AB\n"
     ]
    }
   ],
   "source": [
    "test = pd.read_csv(CSV_DIR)\n",
    "print(test)"
   ]
  },
  {
   "cell_type": "code",
   "execution_count": 3,
   "metadata": {},
   "outputs": [],
   "source": [
    "if not os.path.exists(SAVE_DIR):\n",
    "        os.makedirs(SAVE_DIR)"
   ]
  },
  {
   "cell_type": "code",
   "execution_count": 10,
   "metadata": {
    "scrolled": true
   },
   "outputs": [
    {
     "name": "stdout",
     "output_type": "stream",
     "text": [
      "['NA3777-02_AB.npy', 'NA4077-02_AB.npy']\n"
     ]
    }
   ],
   "source": [
    "BRAINSEG_NP_DIR = 'data/brainseg/numpy/'\n",
    "SAVE_IMG_DIR = 'data/outputs/masked_plaque/images/'\n",
    "SAVE_NP_DIR = 'data/outputs/masked_plaque/numpy/'\n",
    "print(os.listdir(BRAINSEG_NP_DIR))"
   ]
  },
  {
   "cell_type": "code",
   "execution_count": null,
   "metadata": {},
   "outputs": [],
   "source": [
    "import matplotlib.pyplot as plt\n",
    "%matplotlib inline\n",
    "def plot_seg(seg_np) :\n",
    "    "
   ]
  },
  {
   "cell_type": "code",
   "execution_count": 76,
   "metadata": {},
   "outputs": [],
   "source": [
    "def saveBrainSegImage(nums, save_dir) :\n",
    "    \"\"\"\n",
    "    Converts 2D array with {0,1,2} into RGB\n",
    "     to determine different segmentation areas\n",
    "     and saves image at given directory\n",
    "    \n",
    "    Input:\n",
    "       nums: 2D-NumPy Array containing classification\n",
    "       save_dir: string indicating save location\n",
    "    \"\"\" \n",
    "    \n",
    "    nums = np.repeat(nums[:,:, np.newaxis], 3, axis=2)\n",
    "    \n",
    "    # nums[:,:,0] = RED, nums[:,:,1] = Green, nums[:,:,2] = Blue\n",
    "    idx_1 = np.where(nums[:,:,0] == 1)  # Index of label 1 (WM)\n",
    "    idx_2 = np.where(nums[:,:,0] == 2)  # Index of label 2 (GM)\n",
    "\n",
    "    # For label 0, leave as black color\n",
    "    # For label 1, set to yellow color: R255G255B0 (WM)\n",
    "    nums[:,:,0].flat[np.ravel_multi_index(idx_1, nums[:,:,0].shape)] = 255\n",
    "    nums[:,:,1].flat[np.ravel_multi_index(idx_1, nums[:,:,1].shape)] = 255\n",
    "    nums[:,:,2].flat[np.ravel_multi_index(idx_1, nums[:,:,2].shape)] = 0\n",
    "    # For label 2, set to cyan color: R0G255B255 (GM)\n",
    "    nums[:,:,0].flat[np.ravel_multi_index(idx_2, nums[:,:,0].shape)] = 0\n",
    "    nums[:,:,1].flat[np.ravel_multi_index(idx_2, nums[:,:,1].shape)] = 255\n",
    "    nums[:,:,2].flat[np.ravel_multi_index(idx_2, nums[:,:,2].shape)] = 255\n",
    "\n",
    "    nums = nums.astype(np.uint8) # PIL save only accepts uint8 {0,..,255}\n",
    "    save_img = Image.fromarray(nums, 'RGB')\n",
    "    save_img.save(save_dir)\n",
    "    print(\"Saved at: \" + save_dir)"
   ]
  },
  {
   "cell_type": "code",
   "execution_count": 77,
   "metadata": {},
   "outputs": [],
   "source": [
    "from PIL import Image\n",
    "import numpy as np\n",
    "from scipy import ndimage\n",
    "from skimage import morphology, measure\n",
    "# import lxml.etree as ET\n",
    "from tqdm import tqdm\n",
    "\n",
    "def method_6(mask_img: \"Image\", down_factor=4) -> \"NDArray[np.uint8]\":\n",
    "    \"\"\"Downsample => Area_opening (Remove local maxima) =>\n",
    "    Swap index of GM and WM => Area_opening => Swap index back =>\n",
    "    Area_closing => Morphological opening => Upsample\"\"\"\n",
    "    # pylint: disable=invalid-name\n",
    "    def swap_GM_WM(arr):\n",
    "        \"\"\"Swap GM and WM in arr (swaps index 1 and index 2)\"\"\"\n",
    "        arr_1 = (arr == 1)\n",
    "        arr[arr == 2] = 1\n",
    "        arr[arr_1] = 2\n",
    "        del arr_1\n",
    "        return arr\n",
    "    # pylint: enable=invalid-name\n",
    "\n",
    "    mask_img = Image.fromarray(mask_img)\n",
    "    width, height = mask_img.width, mask_img.height\n",
    "    area_threshold_prop = 0.05\n",
    "    area_threshold = int(area_threshold_prop * width * height // down_factor**2)\n",
    "\n",
    "    # Downsample the image\n",
    "    mask_arr = np.array(\n",
    "        mask_img.resize((width // down_factor, height // down_factor), Image.NEAREST))\n",
    "    del mask_img\n",
    "    print('Finish downsampling')\n",
    "\n",
    "    # Apply area_opening to remove local maxima with area < 20000 px\n",
    "    mask_arr = morphology.area_opening(mask_arr, area_threshold=320000 // down_factor**2)\n",
    "    print('Finish area_opening #1')\n",
    "\n",
    "    # Swap index of GM and WM\n",
    "    mask_arr = swap_GM_WM(mask_arr)\n",
    "    print('Finish swapping index')\n",
    "\n",
    "    # Apply area_opening to remove local maxima with area < 20000 px\n",
    "    mask_arr = morphology.area_opening(mask_arr, area_threshold=320000 // down_factor**2)\n",
    "    print('Finish area_opening #2')\n",
    "\n",
    "    # Swap index back\n",
    "    mask_arr = swap_GM_WM(mask_arr)\n",
    "    print('Finish swapping index back')\n",
    "\n",
    "    # Apply area_closing to remove local minima with area < 12500 px\n",
    "    mask_arr = morphology.area_closing(mask_arr, area_threshold=200000 // down_factor**2)\n",
    "    print('Finish area_closing')\n",
    "\n",
    "    # Apply remove_small_objects to remove tissue residue with area < 0.05 * width * height\n",
    "    tissue_arr = morphology.remove_small_objects(mask_arr > 0, min_size=area_threshold,\n",
    "                                                 connectivity=2)\n",
    "    mask_arr[np.invert(tissue_arr)] = 0\n",
    "    del tissue_arr\n",
    "    print('Finish remove_small_objects')\n",
    "\n",
    "    # Apply opening with disk-shaped kernel (r=8) to smooth boundary\n",
    "    mask_arr = morphology.opening(mask_arr, selem=morphology.disk(radius=32 // down_factor))\n",
    "    print('Finish morphological opening')\n",
    "\n",
    "    # Upsample the output\n",
    "    mask_arr = np.array(Image.fromarray(mask_arr).resize((width, height), Image.NEAREST))\n",
    "    print('Finish upsampling')\n",
    "\n",
    "    return mask_arr"
   ]
  },
  {
   "cell_type": "code",
   "execution_count": 11,
   "metadata": {},
   "outputs": [],
   "source": [
    "# BrainSeg Post-processing Directories\n",
    "BRAINSEG_NP_PRE_DIR = 'data/brainseg/numpy/'\n",
    "POST_IMG_DIR = 'data/postprocess/images/'\n",
    "POST_NP_DIR = 'data/postprocess/numpy/'\n",
    "\n",
    "# Counted Plaques Save Directories\n",
    "SAVE_IMG_DIR = 'data/outputs/masked_plaque/images/'\n",
    "SAVE_NP_DIR = 'data/outputs/masked_plaque/numpy/'"
   ]
  },
  {
   "cell_type": "code",
   "execution_count": 79,
   "metadata": {
    "scrolled": true
   },
   "outputs": [
    {
     "name": "stderr",
     "output_type": "stream",
     "text": [
      "\r",
      "  0%|          | 0/18 [00:00<?, ?it/s]"
     ]
    },
    {
     "name": "stdout",
     "output_type": "stream",
     "text": [
      "Loading: data/brainseg/numpy/NA3777-02_AB.npy\n",
      "Finish downsampling\n",
      "Finish area_opening #1\n",
      "Finish swapping index\n",
      "Finish area_opening #2\n",
      "Finish swapping index back\n",
      "Finish area_closing\n",
      "Finish remove_small_objects\n",
      "Finish morphological opening\n",
      "Finish upsampling\n"
     ]
    },
    {
     "name": "stderr",
     "output_type": "stream",
     "text": [
      "\r",
      "  6%|▌         | 1/18 [00:04<01:18,  4.64s/it]"
     ]
    },
    {
     "name": "stdout",
     "output_type": "stream",
     "text": [
      "Saved at: data/postprocess/images/NA3777-02_AB.png\n",
      "Loading: data/brainseg/numpy/NA4077-02_AB.npy\n",
      "Finish downsampling\n",
      "Finish area_opening #1\n",
      "Finish swapping index\n",
      "Finish area_opening #2\n",
      "Finish swapping index back\n",
      "Finish area_closing\n",
      "Finish remove_small_objects\n",
      "Finish morphological opening\n",
      "Finish upsampling\n"
     ]
    },
    {
     "name": "stderr",
     "output_type": "stream",
     "text": [
      "\r",
      " 11%|█         | 2/18 [00:10<01:21,  5.09s/it]"
     ]
    },
    {
     "name": "stdout",
     "output_type": "stream",
     "text": [
      "Saved at: data/postprocess/images/NA4077-02_AB.png\n",
      "Loading: data/brainseg/numpy/NA4092-02_AB.npy\n",
      "Finish downsampling\n",
      "Finish area_opening #1\n",
      "Finish swapping index\n",
      "Finish area_opening #2\n",
      "Finish swapping index back\n",
      "Finish area_closing\n",
      "Finish remove_small_objects\n",
      "Finish morphological opening\n",
      "Finish upsampling\n"
     ]
    },
    {
     "name": "stderr",
     "output_type": "stream",
     "text": [
      "\r",
      " 17%|█▋        | 3/18 [00:16<01:19,  5.27s/it]"
     ]
    },
    {
     "name": "stdout",
     "output_type": "stream",
     "text": [
      "Saved at: data/postprocess/images/NA4092-02_AB.png\n",
      "Loading: data/brainseg/numpy/NA4107-02_AB.npy\n",
      "Finish downsampling\n",
      "Finish area_opening #1\n",
      "Finish swapping index\n",
      "Finish area_opening #2\n",
      "Finish swapping index back\n",
      "Finish area_closing\n",
      "Finish remove_small_objects\n",
      "Finish morphological opening\n",
      "Finish upsampling\n"
     ]
    },
    {
     "name": "stderr",
     "output_type": "stream",
     "text": [
      "\r",
      " 22%|██▏       | 4/18 [00:21<01:10,  5.06s/it]"
     ]
    },
    {
     "name": "stdout",
     "output_type": "stream",
     "text": [
      "Saved at: data/postprocess/images/NA4107-02_AB.png\n",
      "Loading: data/brainseg/numpy/NA4160-02_AB.npy\n",
      "Finish downsampling\n",
      "Finish area_opening #1\n",
      "Finish swapping index\n",
      "Finish area_opening #2\n",
      "Finish swapping index back\n",
      "Finish area_closing\n",
      "Finish remove_small_objects\n",
      "Finish morphological opening\n",
      "Finish upsampling\n"
     ]
    },
    {
     "name": "stderr",
     "output_type": "stream",
     "text": [
      "\r",
      " 28%|██▊       | 5/18 [00:25<01:03,  4.91s/it]"
     ]
    },
    {
     "name": "stdout",
     "output_type": "stream",
     "text": [
      "Saved at: data/postprocess/images/NA4160-02_AB.png\n",
      "Loading: data/brainseg/numpy/NA4195-02_AB.npy\n",
      "Finish downsampling\n",
      "Finish area_opening #1\n",
      "Finish swapping index\n",
      "Finish area_opening #2\n",
      "Finish swapping index back\n",
      "Finish area_closing\n",
      "Finish remove_small_objects\n",
      "Finish morphological opening\n",
      "Finish upsampling\n"
     ]
    },
    {
     "name": "stderr",
     "output_type": "stream",
     "text": [
      "\r",
      " 33%|███▎      | 6/18 [00:29<00:56,  4.67s/it]"
     ]
    },
    {
     "name": "stdout",
     "output_type": "stream",
     "text": [
      "Saved at: data/postprocess/images/NA4195-02_AB.png\n",
      "Loading: data/brainseg/numpy/NA4256-02_AB.npy\n",
      "Finish downsampling\n",
      "Finish area_opening #1\n",
      "Finish swapping index\n",
      "Finish area_opening #2\n",
      "Finish swapping index back\n",
      "Finish area_closing\n",
      "Finish remove_small_objects\n",
      "Finish morphological opening\n",
      "Finish upsampling\n"
     ]
    },
    {
     "name": "stderr",
     "output_type": "stream",
     "text": [
      "\r",
      " 39%|███▉      | 7/18 [00:35<00:54,  4.95s/it]"
     ]
    },
    {
     "name": "stdout",
     "output_type": "stream",
     "text": [
      "Saved at: data/postprocess/images/NA4256-02_AB.png\n",
      "Loading: data/brainseg/numpy/NA4299-02_AB.npy\n",
      "Finish downsampling\n",
      "Finish area_opening #1\n",
      "Finish swapping index\n",
      "Finish area_opening #2\n",
      "Finish swapping index back\n",
      "Finish area_closing\n",
      "Finish remove_small_objects\n",
      "Finish morphological opening\n",
      "Finish upsampling\n"
     ]
    },
    {
     "name": "stderr",
     "output_type": "stream",
     "text": [
      "\r",
      " 44%|████▍     | 8/18 [00:40<00:48,  4.88s/it]"
     ]
    },
    {
     "name": "stdout",
     "output_type": "stream",
     "text": [
      "Saved at: data/postprocess/images/NA4299-02_AB.png\n",
      "Loading: data/brainseg/numpy/NA4391-02_AB.npy\n",
      "Finish downsampling\n",
      "Finish area_opening #1\n",
      "Finish swapping index\n",
      "Finish area_opening #2\n",
      "Finish swapping index back\n",
      "Finish area_closing\n",
      "Finish remove_small_objects\n",
      "Finish morphological opening\n",
      "Finish upsampling\n"
     ]
    },
    {
     "name": "stderr",
     "output_type": "stream",
     "text": [
      "\r",
      " 50%|█████     | 9/18 [00:44<00:42,  4.71s/it]"
     ]
    },
    {
     "name": "stdout",
     "output_type": "stream",
     "text": [
      "Saved at: data/postprocess/images/NA4391-02_AB.png\n",
      "Loading: data/brainseg/numpy/NA4450-02_AB.npy\n",
      "Finish downsampling\n",
      "Finish area_opening #1\n",
      "Finish swapping index\n",
      "Finish area_opening #2\n",
      "Finish swapping index back\n",
      "Finish area_closing\n",
      "Finish remove_small_objects\n",
      "Finish morphological opening\n",
      "Finish upsampling\n"
     ]
    },
    {
     "name": "stderr",
     "output_type": "stream",
     "text": [
      "\r",
      " 56%|█████▌    | 10/18 [00:49<00:38,  4.78s/it]"
     ]
    },
    {
     "name": "stdout",
     "output_type": "stream",
     "text": [
      "Saved at: data/postprocess/images/NA4450-02_AB.png\n",
      "Loading: data/brainseg/numpy/NA4463-02_AB.npy\n",
      "Finish downsampling\n",
      "Finish area_opening #1\n",
      "Finish swapping index\n",
      "Finish area_opening #2\n",
      "Finish swapping index back\n",
      "Finish area_closing\n",
      "Finish remove_small_objects\n",
      "Finish morphological opening\n",
      "Finish upsampling\n"
     ]
    },
    {
     "name": "stderr",
     "output_type": "stream",
     "text": [
      "\r",
      " 61%|██████    | 11/18 [00:54<00:33,  4.80s/it]"
     ]
    },
    {
     "name": "stdout",
     "output_type": "stream",
     "text": [
      "Saved at: data/postprocess/images/NA4463-02_AB.png\n",
      "Loading: data/brainseg/numpy/NA4471-02_AB.npy\n",
      "Finish downsampling\n",
      "Finish area_opening #1\n",
      "Finish swapping index\n",
      "Finish area_opening #2\n",
      "Finish swapping index back\n",
      "Finish area_closing\n",
      "Finish remove_small_objects\n",
      "Finish morphological opening\n",
      "Finish upsampling\n"
     ]
    },
    {
     "name": "stderr",
     "output_type": "stream",
     "text": [
      "\r",
      " 67%|██████▋   | 12/18 [01:00<00:30,  5.13s/it]"
     ]
    },
    {
     "name": "stdout",
     "output_type": "stream",
     "text": [
      "Saved at: data/postprocess/images/NA4471-02_AB.png\n",
      "Loading: data/brainseg/numpy/NA4553-02_AB.npy\n",
      "Finish downsampling\n",
      "Finish area_opening #1\n",
      "Finish swapping index\n",
      "Finish area_opening #2\n",
      "Finish swapping index back\n",
      "Finish area_closing\n",
      "Finish remove_small_objects\n",
      "Finish morphological opening\n",
      "Finish upsampling\n"
     ]
    },
    {
     "name": "stderr",
     "output_type": "stream",
     "text": [
      "\r",
      " 72%|███████▏  | 13/18 [01:05<00:26,  5.32s/it]"
     ]
    },
    {
     "name": "stdout",
     "output_type": "stream",
     "text": [
      "Saved at: data/postprocess/images/NA4553-02_AB.png\n",
      "Loading: data/brainseg/numpy/NA4626-02_AB.npy\n",
      "Finish downsampling\n",
      "Finish area_opening #1\n",
      "Finish swapping index\n",
      "Finish area_opening #2\n",
      "Finish swapping index back\n",
      "Finish area_closing\n",
      "Finish remove_small_objects\n",
      "Finish morphological opening\n",
      "Finish upsampling\n"
     ]
    },
    {
     "name": "stderr",
     "output_type": "stream",
     "text": [
      "\r",
      " 78%|███████▊  | 14/18 [01:09<00:19,  4.89s/it]"
     ]
    },
    {
     "name": "stdout",
     "output_type": "stream",
     "text": [
      "Saved at: data/postprocess/images/NA4626-02_AB.png\n",
      "Loading: data/brainseg/numpy/NA4672-02_AB.npy\n",
      "Finish downsampling\n",
      "Finish area_opening #1\n",
      "Finish swapping index\n",
      "Finish area_opening #2\n",
      "Finish swapping index back\n",
      "Finish area_closing\n",
      "Finish remove_small_objects\n",
      "Finish morphological opening\n",
      "Finish upsampling\n"
     ]
    },
    {
     "name": "stderr",
     "output_type": "stream",
     "text": [
      "\r",
      " 83%|████████▎ | 15/18 [01:13<00:13,  4.42s/it]"
     ]
    },
    {
     "name": "stdout",
     "output_type": "stream",
     "text": [
      "Saved at: data/postprocess/images/NA4672-02_AB.png\n",
      "Loading: data/brainseg/numpy/NA4675-02_AB.npy\n",
      "Finish downsampling\n",
      "Finish area_opening #1\n",
      "Finish swapping index\n",
      "Finish area_opening #2\n",
      "Finish swapping index back\n",
      "Finish area_closing\n",
      "Finish remove_small_objects\n",
      "Finish morphological opening\n",
      "Finish upsampling\n"
     ]
    },
    {
     "name": "stderr",
     "output_type": "stream",
     "text": [
      "\r",
      " 89%|████████▉ | 16/18 [01:17<00:08,  4.49s/it]"
     ]
    },
    {
     "name": "stdout",
     "output_type": "stream",
     "text": [
      "Saved at: data/postprocess/images/NA4675-02_AB.png\n",
      "Loading: data/brainseg/numpy/NA4691-02_AB.npy\n",
      "Finish downsampling\n",
      "Finish area_opening #1\n",
      "Finish swapping index\n",
      "Finish area_opening #2\n",
      "Finish swapping index back\n",
      "Finish area_closing\n",
      "Finish remove_small_objects\n",
      "Finish morphological opening\n",
      "Finish upsampling\n"
     ]
    },
    {
     "name": "stderr",
     "output_type": "stream",
     "text": [
      "\r",
      " 94%|█████████▍| 17/18 [01:21<00:04,  4.39s/it]"
     ]
    },
    {
     "name": "stdout",
     "output_type": "stream",
     "text": [
      "Saved at: data/postprocess/images/NA4691-02_AB.png\n",
      "Loading: data/brainseg/numpy/NA4695-02_AB.npy\n",
      "Finish downsampling\n",
      "Finish area_opening #1\n",
      "Finish swapping index\n",
      "Finish area_opening #2\n",
      "Finish swapping index back\n",
      "Finish area_closing\n",
      "Finish remove_small_objects\n",
      "Finish morphological opening\n",
      "Finish upsampling\n"
     ]
    },
    {
     "name": "stderr",
     "output_type": "stream",
     "text": [
      "100%|██████████| 18/18 [01:26<00:00,  4.79s/it]"
     ]
    },
    {
     "name": "stdout",
     "output_type": "stream",
     "text": [
      "Saved at: data/postprocess/images/NA4695-02_AB.png\n"
     ]
    },
    {
     "name": "stderr",
     "output_type": "stream",
     "text": [
      "\n"
     ]
    }
   ],
   "source": [
    "# seg_pic = np.load(BRAINSEG_NP_DIR + filenames[0] + \".npy\")\n",
    "\n",
    "# Post-process BrainSeg\n",
    "for filename in tqdm(filenames) :\n",
    "    fileLoc = BRAINSEG_NP_PRE_DIR + filename + \".npy\"\n",
    "    print(\"Loading: \" + fileLoc)\n",
    "    seg_pic = np.load(fileLoc)\n",
    "    processed = method_6(seg_pic)\n",
    "    np.save(POST_NP_DIR+filename, processed)\n",
    "    saveBrainSegImage(processed, \\\n",
    "                      POST_IMG_DIR + filename + '.png')"
   ]
  },
  {
   "cell_type": "code",
   "execution_count": 28,
   "metadata": {},
   "outputs": [],
   "source": [
    "file = pd.read_csv(CSV_DIR)\n",
    "filenames = list(file['WSI_ID'])\n",
    "img_class = ['cored', 'diffuse', 'caa']\n",
    "\n",
    "# two hyperparameters\n",
    "confidence_thresholds = [0.1, 0.95, 0.9]\n",
    "pixel_thresholds = [100, 1, 200]"
   ]
  },
  {
   "cell_type": "code",
   "execution_count": 29,
   "metadata": {},
   "outputs": [],
   "source": [
    "# UserWarning: The argument 'neighbors' is deprecated and will be removed in scikit-image 0.18,\n",
    "# use 'connectivity' instead. For neighbors=8, use connectivity=2\n",
    "#   This is separate from the ipykernel package so we can avoid doing imports until\n",
    "\n",
    "def count_blobs(mask,\n",
    "               threshold=1500):\n",
    "#     labels = measure.label(mask, neighbors=8, background=0)\n",
    "    labels = measure.label(mask, connectivity=2, background=0)\n",
    "    img_mask = np.zeros(mask.shape, dtype='uint8')\n",
    "    labeled_mask = np.zeros(mask.shape, dtype='uint16')\n",
    "    sizes = []\n",
    "    locations = []\n",
    "    \n",
    "    # loop over the unique components\n",
    "    for label in np.unique(labels):\n",
    "        # if this is the background label, ignore it\n",
    "        if label == 0:\n",
    "            continue\n",
    "        # otherwise, construct the label mask and count the\n",
    "        # number of pixels \n",
    "        labelMask = np.zeros(mask.shape, dtype=\"uint8\")\n",
    "        labelMask[labels == label] = 255\n",
    "        numPixels = cv2.countNonZero(labelMask)\n",
    "        \n",
    "        # if the number of pixels in the component is sufficiently\n",
    "        # large, then add it to our mask of \"large blobs\"\n",
    "        if numPixels > threshold:\n",
    "            sizes.append(numPixels)\n",
    "            img_mask = cv2.add(img_mask, labelMask)\n",
    "            \n",
    "            # Save confirmed unique location of plaque\n",
    "            labeled_mask[labels==label] = label\n",
    "#             location = np.where(labelMask == 255)\n",
    "#             locations.append(location)\n",
    "\n",
    "#             row_loc, col_loc = np.where(labelMask == 255)\n",
    "#             print(\"row_loc, col_loc\", (row_loc, col_loc))\n",
    "\n",
    "    return sizes, img_mask, labeled_mask"
   ]
  },
  {
   "cell_type": "code",
   "execution_count": 26,
   "metadata": {},
   "outputs": [
    {
     "name": "stdout",
     "output_type": "stream",
     "text": [
      "Type of Elements:  [0 1 2 3 4]\n",
      "Number of Counts:  [1 2 2 1 4]\n",
      "[4]\n",
      "(1,)\n"
     ]
    }
   ],
   "source": [
    "test_array = np.asarray([1, 0, 1, 2, 3, 4, 2, 4, 4, 4], dtype=np.uint8)\n",
    "elements, counts = np.unique(test_array, return_counts=True)\n",
    "print(\"Type of Elements: \", elements)\n",
    "print(\"Number of Counts: \", counts)\n",
    "idx_tuple = np.where(counts == np.amax(counts))\n",
    "row = idx_tuple[0]\n",
    "print(row)\n",
    "print(np.asarray([2], dtype=np.uint8).shape)"
   ]
  },
  {
   "cell_type": "code",
   "execution_count": 13,
   "metadata": {},
   "outputs": [],
   "source": [
    "%matplotlib inline\n",
    "from mpl_toolkits.axes_grid1 import make_axes_locatable\n",
    "def plot_mask(mask_array) :\n",
    "    fig = plt.figure(figsize=(45,15))\n",
    "    ax = fig.add_subplot(111)\n",
    "\n",
    "    im = ax.imshow(mask_array, cmap=plt.cm.get_cmap('viridis', 20), vmin=0, vmax=1)\n",
    "    divider = make_axes_locatable(ax)\n",
    "    cax = divider.append_axes(\"right\", size=\"5%\", pad=0.1)\n",
    "    plt.colorbar(im, cax=cax, ticks=[0.0, 0.25, 0.5, 0.75, 1.0])\n",
    "    \n",
    "    return plt.show()"
   ]
  },
  {
   "cell_type": "code",
   "execution_count": 31,
   "metadata": {},
   "outputs": [],
   "source": [
    "from PIL import Image\n",
    "def saveMask(mask_array, save_dir) :\n",
    "    \n",
    "    mask_array = np.repeat(mask_array[:,:, np.newaxis], 3, axis=2)\n",
    "    \n",
    "    # mask_array[:,:,0] = RED, mask_array[:,:,1] = Green, mask_array[:,:,2] = Blue\n",
    "    idx = np.where(mask_array[:,:,0] == 255)  # Index of label 1 (WM)\n",
    "\n",
    "    # For label 0, leave as black color\n",
    "    # For label 1, set to cyan color: R0G255B255\n",
    "    mask_array[:,:,0].flat[np.ravel_multi_index(idx, mask_array[:,:,0].shape)] = 0\n",
    "    mask_array[:,:,1].flat[np.ravel_multi_index(idx, mask_array[:,:,1].shape)] = 255\n",
    "    mask_array[:,:,2].flat[np.ravel_multi_index(idx, mask_array[:,:,2].shape)] = 255\n",
    "#     # For label 2, set to yellow color: R255G255B0\n",
    "#     mask_array[:,:,0].flat[np.ravel_multi_index(idx_2, mask_array[:,:,0].shape)] = 255\n",
    "#     mask_array[:,:,1].flat[np.ravel_multi_index(idx_2, mask_array[:,:,1].shape)] = 255\n",
    "#     mask_array[:,:,2].flat[np.ravel_multi_index(idx_2, mask_array[:,:,2].shape)] = 0\n",
    "\n",
    "    mask_array = mask_array.astype(np.uint8) # PIL save only accepts uint8 {0,..,255}\n",
    "    save_img = Image.fromarray(mask_array, 'RGB')\n",
    "    save_img.save(save_dir)\n",
    "    print(\"Saved at: \" + save_dir)"
   ]
  },
  {
   "cell_type": "code",
   "execution_count": 74,
   "metadata": {},
   "outputs": [],
   "source": [
    "def classify_blobs(labeled_mask, seg_area) :\n",
    "    \n",
    "    # 0: Background, 1: GM, 2: WM\n",
    "    count_dict = {0: 0, 1: 0, 2: 0, \"uncounted\": 0}\n",
    "    # Loop over unique components\n",
    "    for label in np.unique(labeled_mask) :\n",
    "        if label == 0:\n",
    "            continue\n",
    "            \n",
    "        plaque_loc = np.where(labeled_mask == label)\n",
    "        plaque_area = seg_area[plaque_loc]\n",
    "        indexes, counts = np.unique(plaque_area, return_counts=True)\n",
    "        class_idx = indexes[np.where(counts == np.amax(counts))]\n",
    "        \n",
    "        try:\n",
    "            class_idx = class_idx.item()\n",
    "            count_dict[class_idx] += 1\n",
    "                \n",
    "        except:\n",
    "            uncounted += 1\n",
    "            count_dict[\"uncounted\"] += 1\n",
    "            \n",
    "    return count_dict, count_dict[0], count_dict[1], count_dict[2], count_dict[\"uncounted\"]\n",
    "            "
   ]
  },
  {
   "cell_type": "code",
   "execution_count": null,
   "metadata": {},
   "outputs": [],
   "source": [
    "def locatePlaque(mask_array, seg_array) :\n",
    "    \n",
    "    idx = np.where(mask_array == 255)\n",
    "    seg_array[idx]"
   ]
  },
  {
   "cell_type": "code",
   "execution_count": 75,
   "metadata": {},
   "outputs": [
    {
     "name": "stderr",
     "output_type": "stream",
     "text": [
      "1it [01:06, 66.31s/it]"
     ]
    },
    {
     "name": "stdout",
     "output_type": "stream",
     "text": [
      "Saved at: data/postprocess/images/NA3777-02_AB_cored.png\n"
     ]
    },
    {
     "name": "stderr",
     "output_type": "stream",
     "text": [
      "\r",
      "2it [02:15, 67.23s/it]"
     ]
    },
    {
     "name": "stdout",
     "output_type": "stream",
     "text": [
      "Saved at: data/postprocess/images/NA4077-02_AB_cored.png\n"
     ]
    },
    {
     "name": "stderr",
     "output_type": "stream",
     "text": [
      "\r",
      "3it [03:09, 63.26s/it]"
     ]
    },
    {
     "name": "stdout",
     "output_type": "stream",
     "text": [
      "Saved at: data/postprocess/images/NA4092-02_AB_cored.png\n"
     ]
    },
    {
     "name": "stderr",
     "output_type": "stream",
     "text": [
      "\r",
      "4it [03:42, 54.24s/it]"
     ]
    },
    {
     "name": "stdout",
     "output_type": "stream",
     "text": [
      "Saved at: data/postprocess/images/NA4107-02_AB_cored.png\n"
     ]
    },
    {
     "name": "stderr",
     "output_type": "stream",
     "text": [
      "4it [04:05, 61.27s/it]\n"
     ]
    },
    {
     "ename": "KeyboardInterrupt",
     "evalue": "",
     "output_type": "error",
     "traceback": [
      "\u001b[0;31m---------------------------------------------------------------------------\u001b[0m",
      "\u001b[0;31mKeyboardInterrupt\u001b[0m                         Traceback (most recent call last)",
      "\u001b[0;32m<ipython-input-75-04b996eb8e4f>\u001b[0m in \u001b[0;36m<module>\u001b[0;34m\u001b[0m\n\u001b[1;32m     38\u001b[0m \u001b[0;34m\u001b[0m\u001b[0m\n\u001b[1;32m     39\u001b[0m         \u001b[0mlabels\u001b[0m\u001b[0;34m,\u001b[0m \u001b[0mimg_mask\u001b[0m\u001b[0;34m,\u001b[0m \u001b[0mlabeled_mask\u001b[0m \u001b[0;34m=\u001b[0m \u001b[0mcount_blobs\u001b[0m\u001b[0;34m(\u001b[0m\u001b[0mclosing\u001b[0m\u001b[0;34m,\u001b[0m \u001b[0mthreshold\u001b[0m\u001b[0;34m=\u001b[0m\u001b[0mpixel_threshold\u001b[0m\u001b[0;34m)\u001b[0m\u001b[0;34m\u001b[0m\u001b[0m\n\u001b[0;32m---> 40\u001b[0;31m         \u001b[0mcounts\u001b[0m\u001b[0;34m,\u001b[0m \u001b[0mbg\u001b[0m\u001b[0;34m[\u001b[0m\u001b[0mi\u001b[0m\u001b[0;34m]\u001b[0m\u001b[0;34m,\u001b[0m \u001b[0mgm\u001b[0m\u001b[0;34m[\u001b[0m\u001b[0mi\u001b[0m\u001b[0;34m]\u001b[0m\u001b[0;34m,\u001b[0m \u001b[0mwm\u001b[0m\u001b[0;34m[\u001b[0m\u001b[0mi\u001b[0m\u001b[0;34m]\u001b[0m\u001b[0;34m,\u001b[0m \u001b[0munknowns\u001b[0m\u001b[0;34m[\u001b[0m\u001b[0mi\u001b[0m\u001b[0;34m]\u001b[0m \u001b[0;34m=\u001b[0m \u001b[0mclassify_blobs\u001b[0m\u001b[0;34m(\u001b[0m\u001b[0mlabeled_mask\u001b[0m\u001b[0;34m,\u001b[0m \u001b[0mseg\u001b[0m\u001b[0;34m)\u001b[0m\u001b[0;34m\u001b[0m\u001b[0m\n\u001b[0m\u001b[1;32m     41\u001b[0m \u001b[0;34m\u001b[0m\u001b[0m\n\u001b[1;32m     42\u001b[0m         \u001b[0msave_img\u001b[0m \u001b[0;34m=\u001b[0m \u001b[0mSAVE_IMG_DIR\u001b[0m \u001b[0;34m+\u001b[0m \u001b[0mWSIname\u001b[0m\u001b[0;31m \u001b[0m\u001b[0;31m\\\u001b[0m\u001b[0;34m\u001b[0m\u001b[0m\n",
      "\u001b[0;32m<ipython-input-74-863f26aa6762>\u001b[0m in \u001b[0;36mclassify_blobs\u001b[0;34m(labeled_mask, seg_area)\u001b[0m\n\u001b[1;32m      8\u001b[0m             \u001b[0;32mcontinue\u001b[0m\u001b[0;34m\u001b[0m\u001b[0m\n\u001b[1;32m      9\u001b[0m \u001b[0;34m\u001b[0m\u001b[0m\n\u001b[0;32m---> 10\u001b[0;31m         \u001b[0mplaque_loc\u001b[0m \u001b[0;34m=\u001b[0m \u001b[0mnp\u001b[0m\u001b[0;34m.\u001b[0m\u001b[0mwhere\u001b[0m\u001b[0;34m(\u001b[0m\u001b[0mlabeled_mask\u001b[0m \u001b[0;34m==\u001b[0m \u001b[0mlabel\u001b[0m\u001b[0;34m)\u001b[0m\u001b[0;34m\u001b[0m\u001b[0m\n\u001b[0m\u001b[1;32m     11\u001b[0m         \u001b[0mplaque_area\u001b[0m \u001b[0;34m=\u001b[0m \u001b[0mseg_area\u001b[0m\u001b[0;34m[\u001b[0m\u001b[0mplaque_loc\u001b[0m\u001b[0;34m]\u001b[0m\u001b[0;34m\u001b[0m\u001b[0m\n\u001b[1;32m     12\u001b[0m         \u001b[0m__\u001b[0m\u001b[0;34m,\u001b[0m \u001b[0mcounts\u001b[0m \u001b[0;34m=\u001b[0m \u001b[0mnp\u001b[0m\u001b[0;34m.\u001b[0m\u001b[0munique\u001b[0m\u001b[0;34m(\u001b[0m\u001b[0mplaque_area\u001b[0m\u001b[0;34m,\u001b[0m \u001b[0mreturn_counts\u001b[0m\u001b[0;34m=\u001b[0m\u001b[0;32mTrue\u001b[0m\u001b[0;34m)\u001b[0m\u001b[0;34m\u001b[0m\u001b[0m\n",
      "\u001b[0;32m<__array_function__ internals>\u001b[0m in \u001b[0;36mwhere\u001b[0;34m(*args, **kwargs)\u001b[0m\n",
      "\u001b[0;31mKeyboardInterrupt\u001b[0m: "
     ]
    }
   ],
   "source": [
    "new_file = file\n",
    "for index in [0,1,2]:\n",
    "    preds = np.zeros(len(file))\n",
    "    confidence_threshold = confidence_thresholds[index]\n",
    "    pixel_threshold = pixel_thresholds[index]\n",
    "    \n",
    "    bg = np.zeros(len(file))\n",
    "    wm = np.zeros(len(file))\n",
    "    gm = np.zeros(len(file))\n",
    "    unknowns = np.zeros(len(file))\n",
    "\n",
    "    for i, WSIname in tqdm(enumerate(filenames)):\n",
    "        try:\n",
    "            heatmap_path = HEATMAP_DIR+'new_WSI_heatmap_{}.npy'.format(WSIname)\n",
    "            h = np.load(heatmap_path)\n",
    "\n",
    "        except:\n",
    "            heatmap_path = HEATMAP_DIR+'{}.npy'.format(WSIname)\n",
    "            h = np.load(heatmap_path)\n",
    "            seg_path = BRAINSEG_NP_DIR+'{}.npy'.format(WSIname)\n",
    "            seg = np.load(seg_path)\n",
    "\n",
    "        mask = h[index] > confidence_threshold\n",
    "        mask = mask.astype(np.float32)\n",
    "        \n",
    "#         print(\"Initial Mask:\", mask)\n",
    "#         plot_mask(mask)\n",
    "\n",
    "        kernel = cv2.getStructuringElement(cv2.MORPH_CROSS,(5,5))\n",
    "\n",
    "        # Apply morphological closing, then opening operations \n",
    "        opening = cv2.morphologyEx(mask, cv2.MORPH_OPEN, kernel)\n",
    "        closing = cv2.morphologyEx(opening, cv2.MORPH_CLOSE, kernel)\n",
    "        \n",
    "#         print(\"Denoised Mask:\", closing)\n",
    "#         print(\"Denoised Mask Shape: \", closing.shape)\n",
    "#         plot_mask(closing)\n",
    "\n",
    "        labels, img_mask, labeled_mask = count_blobs(closing, threshold=pixel_threshold)\n",
    "        counts, bg[i], wm[i], gm[i], unknowns[i] = classify_blobs(labeled_mask, seg)\n",
    "    \n",
    "        save_img = SAVE_IMG_DIR + WSIname \\\n",
    "                    + \"_\" + img_class[index] + \".png\"\n",
    "        save_np = SAVE_NP_DIR + WSIname \\\n",
    "                    + \"_\" + img_class[index] + \".npy\"\n",
    "        np.save(save_np, labeled_mask)\n",
    "        saveMask(img_mask, save_img)\n",
    "        \n",
    "\n",
    "#         print(labels)\n",
    "#         print(img_mask.shape)\n",
    "        preds[i] = len(labels)\n",
    "        \n",
    "\n",
    "    print(confidence_threshold, pixel_threshold)\n",
    "\n",
    "    new_file['CNN_{}_count'.format(img_class[index])] = preds\n",
    "    new_file['BG_{}_count'.format(img_class[index])] = bg\n",
    "    new_file['GM_{}_count'.format(img_class[index])] = gm\n",
    "    new_file['WM_{}_count'.format(img_class[index])] = wm\n",
    "    new_file['{}_no-count'.format(img_class[index])] = unknowns\n",
    "    \n",
    "\n",
    "new_file.to_csv(SAVE_DIR+'CNN_vs_CERAD.csv', index=False)"
   ]
  },
  {
   "cell_type": "code",
   "execution_count": 39,
   "metadata": {
    "scrolled": true
   },
   "outputs": [
    {
     "name": "stdout",
     "output_type": "stream",
     "text": [
      "[   0    2    4    6    7    9   12   19   23   25   27   29   34   36\n",
      "   41   43   51   57   62   68   73   75   79   82   86   87   95  101\n",
      "  122  130  132  136  141  145  151  157  160  161  172  178  181  182\n",
      "  183  184  185  203  216  218  226  236  239  249  250  253  263  274\n",
      "  294  295  299  300  303  306  322  325  328  334  340  341  342  357\n",
      "  362  366  367  374  378  379  381  384  385  393  394  399  400  408\n",
      "  418  419  424  427  429  437  445  447  458  460  462  464  468  470\n",
      "  473  474  480  481  497  498  502  506  507  513  515  518  521  526\n",
      "  538  539  540  543  544  550  552  559  568  574  576  578  597  598\n",
      "  602  606  611  617  620  621  629  632  634  637  646  655  657  658\n",
      "  667  668  671  672  673  675  676  678  679  681  687  693  695  698\n",
      "  700  708  715  717  720  721  722  724  727  728  732  734  739  744\n",
      "  747  748  757  758  759  760  763  765  767  768  772  773  775  778\n",
      "  779  780  784  785  787  789  794  795  802  807  810  811  814  816\n",
      "  829  830  834  838  839  844  851  858  859  863  866  868  874  877\n",
      "  879  880  895  896  897  898  903  904  910  911  923  929  930  934\n",
      "  936  938  940  941  943  945  952  955  956  957  960  962  965  967\n",
      "  971  977  978  979  980  991  995 1000 1002 1007 1008 1010 1012 1014\n",
      " 1024 1025 1026 1030 1035 1036 1046 1047 1049 1050 1052 1053 1059 1063\n",
      " 1068 1070 1071 1072 1073 1076 1084 1086 1089 1090 1094 1096 1102 1103\n",
      " 1105 1110 1112 1115 1118 1120 1126 1136 1141 1143 1144 1145 1149 1151\n",
      " 1152 1153 1154 1158 1164 1166 1168 1173 1174 1175 1181 1185 1187 1188\n",
      " 1189 1195 1201 1210 1211 1212 1215 1217 1220 1222 1225 1228 1230 1231\n",
      " 1232 1233 1237 1244 1247 1248 1249 1252 1255 1259 1265 1267 1268 1270\n",
      " 1275 1281 1286 1287 1295 1297 1299 1300 1302 1303 1305 1311 1312 1315\n",
      " 1316 1318 1329 1332 1340 1345 1346 1347 1348 1349 1355 1361 1362 1363\n",
      " 1364 1368 1369 1371 1373 1379 1381 1382 1389 1390 1391 1395 1398 1406\n",
      " 1407 1408 1409 1412 1415 1420 1426 1432 1435 1438 1441 1446 1450 1452\n",
      " 1454 1458 1460 1469 1474 1475 1477 1481 1482 1484 1497 1498 1503 1504\n",
      " 1505 1509 1514 1520 1521 1523 1524 1525 1526 1527 1532 1536 1541 1542\n",
      " 1547 1550 1552 1561 1568 1578 1583 1584 1587 1588 1590 1593 1596 1600\n",
      " 1605 1606 1608 1616 1617 1622 1624 1632 1635 1636 1640 1642 1643 1647\n",
      " 1650 1651 1653 1655 1656 1659 1666 1671 1672 1673 1677 1680 1683 1687\n",
      " 1688 1690 1695 1701 1706 1708 1710 1711 1712 1714 1715 1717 1720 1723\n",
      " 1729 1730 1737 1741 1743 1747 1758 1759 1761 1766 1767 1769 1773 1774\n",
      " 1775 1777 1785 1786 1790 1791 1792 1801 1802 1813 1814 1816 1818 1821\n",
      " 1825 1834 1835 1840 1842 1845 1846 1849 1854 1862 1868 1869 1873 1878\n",
      " 1884 1888 1892 1895 1897 1898 1899 1903 1911 1912 1915 1921 1928 1929\n",
      " 1930 1931 1934 1937 1940 1943 1949 1957 1958 1962 1971 1973 1982 1987\n",
      " 1993 2000 2001 2005 2006 2009 2013 2027 2030 2037 2039 2040 2041 2043\n",
      " 2045 2054 2058 2063 2067 2070 2071 2083 2084 2089 2090 2093 2096 2098\n",
      " 2099 2106 2109 2110 2111 2112 2113 2116 2119 2132 2133 2142 2145 2152\n",
      " 2153 2154 2158 2164 2166 2167 2171 2175 2183 2188 2191 2192 2193 2194\n",
      " 2198 2202 2207 2208 2209 2212 2220 2222 2231 2234 2237 2240 2244 2245\n",
      " 2256 2260 2265 2266 2267 2272 2274 2277 2279 2285 2287 2289 2297 2303\n",
      " 2305 2311 2318 2319 2321 2329 2331 2338 2345 2348 2357 2361 2362 2365\n",
      " 2366 2367 2374 2375 2376 2377 2378 2379 2383 2386 2388 2389 2391 2402\n",
      " 2404 2410 2422 2432 2437 2440 2443 2445 2447 2452 2455 2458 2470 2473\n",
      " 2477 2481 2482 2483 2486 2489 2490 2495 2498 2501 2504 2505 2516 2519\n",
      " 2521 2523 2524 2527 2537 2540 2544 2556 2563 2565 2578 2579 2589 2590\n",
      " 2594 2597 2604 2618 2624 2629 2631 2632 2636 2639 2643 2644 2648 2649\n",
      " 2652 2655]\n"
     ]
    },
    {
     "data": {
      "image/png": "[encoded data removed]",
      "text/plain": [
       "<Figure size 3240x1080 with 2 Axes>"
      ]
     },
     "metadata": {
      "needs_background": "light"
     },
     "output_type": "display_data"
    }
   ],
   "source": [
    "# Double checking Plaque Location\n",
    "inspect_plaque = np.load(SAVE_NP_DIR + filenames[0] + \"_cored.npy\")\n",
    "inspect_seg = np.load(BRAINSEG_NP_DIR + filenames[0] + \".npy\")\n",
    "print(np.unique(inspect_plaque))\n",
    "# print(np.where(inspect_plaque == 16))\n",
    "plot_mask(inspect_plaque)"
   ]
  },
  {
   "cell_type": "code",
   "execution_count": 19,
   "metadata": {
    "scrolled": true
   },
   "outputs": [
    {
     "name": "stdout",
     "output_type": "stream",
     "text": [
      "(array([ 86,  86,  86,  86,  86,  86,  87,  87,  87,  87,  87,  87,  88,\n",
      "        88,  88,  88,  88,  88,  88,  88,  88,  88,  89,  89,  89,  89,\n",
      "        89,  89,  89,  89,  89,  89,  90,  90,  90,  90,  90,  90,  90,\n",
      "        90,  90,  90,  90,  90,  91,  91,  91,  91,  91,  91,  91,  91,\n",
      "        91,  91,  91,  91,  92,  92,  92,  92,  92,  92,  92,  92,  92,\n",
      "        92,  92,  92,  92,  92,  93,  93,  93,  93,  93,  93,  93,  93,\n",
      "        93,  93,  93,  93,  93,  93,  94,  94,  94,  94,  94,  94,  94,\n",
      "        94,  94,  94,  94,  94,  94,  94,  94,  95,  95,  95,  95,  95,\n",
      "        95,  95,  95,  95,  95,  95,  95,  95,  95,  95,  96,  96,  96,\n",
      "        96,  96,  96,  96,  96,  96,  96,  96,  96,  96,  96,  96,  97,\n",
      "        97,  97,  97,  97,  97,  97,  97,  97,  97,  97,  97,  97,  97,\n",
      "        98,  98,  98,  98,  98,  98,  98,  98,  98,  98,  98,  98,  98,\n",
      "        98,  99,  99,  99,  99,  99,  99,  99,  99,  99,  99, 100, 100,\n",
      "       100, 100, 100, 100, 100, 100, 100, 100]), array([2087, 2088, 2089, 2090, 2091, 2092, 2087, 2088, 2089, 2090, 2091,\n",
      "       2092, 2085, 2086, 2087, 2088, 2089, 2090, 2091, 2092, 2093, 2094,\n",
      "       2085, 2086, 2087, 2088, 2089, 2090, 2091, 2092, 2093, 2094, 2085,\n",
      "       2086, 2087, 2088, 2089, 2090, 2091, 2092, 2093, 2094, 2095, 2096,\n",
      "       2085, 2086, 2087, 2088, 2089, 2090, 2091, 2092, 2093, 2094, 2095,\n",
      "       2096, 2085, 2086, 2087, 2088, 2089, 2090, 2091, 2092, 2093, 2094,\n",
      "       2095, 2096, 2097, 2098, 2085, 2086, 2087, 2088, 2089, 2090, 2091,\n",
      "       2092, 2093, 2094, 2095, 2096, 2097, 2098, 2085, 2086, 2087, 2088,\n",
      "       2089, 2090, 2091, 2092, 2093, 2094, 2095, 2096, 2097, 2098, 2099,\n",
      "       2085, 2086, 2087, 2088, 2089, 2090, 2091, 2092, 2093, 2094, 2095,\n",
      "       2096, 2097, 2098, 2099, 2085, 2086, 2087, 2088, 2089, 2090, 2091,\n",
      "       2092, 2093, 2094, 2095, 2096, 2097, 2098, 2099, 2085, 2086, 2087,\n",
      "       2088, 2089, 2090, 2091, 2092, 2093, 2094, 2095, 2096, 2097, 2098,\n",
      "       2085, 2086, 2087, 2088, 2089, 2090, 2091, 2092, 2093, 2094, 2095,\n",
      "       2096, 2097, 2098, 2087, 2088, 2089, 2090, 2091, 2092, 2093, 2094,\n",
      "       2095, 2096, 2087, 2088, 2089, 2090, 2091, 2092, 2093, 2094, 2095,\n",
      "       2096]))\n",
      "2655\n"
     ]
    }
   ],
   "source": [
    "plaque_loc = np.where(inspect_plaque == 2)\n",
    "print(plaque_loc)\n",
    "print(np.amax(np.unique(inspect_plaque)))"
   ]
  },
  {
   "cell_type": "code",
   "execution_count": 49,
   "metadata": {},
   "outputs": [],
   "source": [
    "from skimage.color import hsv2rgb\n",
    "from PIL import Image\n",
    "\n",
    "def saveUniqueMaskImage(maskArray, save_dir) :\n",
    "    '''\n",
    "    Inputs:\n",
    "        - maskArray : Numpy Array containing Unique plaque\n",
    "        - save_dir : String for Save Directory\n",
    "    '''\n",
    "    \n",
    "    max_val = np.amax(np.unique(maskArray))\n",
    "#     print(\"Maximum Value = \", max_val)\n",
    "    maskArray = np.asarray(maskArray, dtype=np.float64)\n",
    "    maskArray = np.repeat(maskArray[:,:, np.newaxis], 3, axis=2)\n",
    "\n",
    "    for label in np.unique(maskArray) :\n",
    "\n",
    "        # For label 0, leave as black color (BG)\n",
    "        if label == 0:\n",
    "            continue\n",
    "\n",
    "        idx = np.where(maskArray[:,:,0] == label) \n",
    "\n",
    "        # For label, create HSV space based on unique labels\n",
    "        maskArray[:,:,0].flat[np.ravel_multi_index(idx, maskArray[:,:,0].shape)] = label / max_val\n",
    "        maskArray[:,:,1].flat[np.ravel_multi_index(idx, maskArray[:,:,1].shape)] = label % max_val\n",
    "        maskArray[:,:,2].flat[np.ravel_multi_index(idx, maskArray[:,:,2].shape)] = 1\n",
    "\n",
    "    rgb_maskArray = hsv2rgb(maskArray)\n",
    "    rgb_maskArray = rgb_maskArray * 255\n",
    "    rgb_maskArray = rgb_maskArray.astype(np.uint8) # PIL save only accepts uint8 {0,..,255}\n",
    "    \n",
    "    save_img = Image.fromarray(rgb_maskArray, 'RGB')\n",
    "    save_img.save(save_dir)\n",
    "    print(\"Saved at: \" + save_dir)"
   ]
  },
  {
   "cell_type": "code",
   "execution_count": 44,
   "metadata": {},
   "outputs": [
    {
     "name": "stdout",
     "output_type": "stream",
     "text": [
      "data/outputs/masked_plaque/numpy/NA4077-02_AB_cored.npy\n",
      "data/outputs/masked_plaque/numpy/NA4077-02_AB_cored\n",
      "data/outputs/masked_plaque/numpy/NA3777-02_AB_cored.npy\n",
      "data/outputs/masked_plaque/numpy/NA3777-02_AB_cored\n",
      "data/outputs/masked_plaque/numpy/NA3777-02_AB_caa.npy\n",
      "data/outputs/masked_plaque/numpy/NA3777-02_AB_caa\n",
      "data/outputs/masked_plaque/numpy/NA3777-02_AB_cored.jpg\n",
      "data/outputs/masked_plaque/numpy/NA3777-02_AB_cored\n",
      "data/outputs/masked_plaque/numpy/NA3777-02_AB_diffuse.npy\n",
      "data/outputs/masked_plaque/numpy/NA3777-02_AB_diffuse\n",
      "data/outputs/masked_plaque/numpy/NA4077-02_AB_caa.npy\n",
      "data/outputs/masked_plaque/numpy/NA4077-02_AB_caa\n",
      "data/outputs/masked_plaque/numpy/NA4077-02_AB_diffuse.npy\n",
      "data/outputs/masked_plaque/numpy/NA4077-02_AB_diffuse\n"
     ]
    }
   ],
   "source": [
    "import os\n",
    "for root, dirs, files in os.walk(SAVE_NP_DIR, topdown=False):\n",
    "    for name in files:\n",
    "        fu = os.path.join(root, name)\n",
    "        print(fu)\n",
    "        print(os.path.splitext(fu)[0])\n",
    "#     for name in dirs:\n",
    "#         print(os.path.join(root, name))"
   ]
  },
  {
   "cell_type": "code",
   "execution_count": 54,
   "metadata": {},
   "outputs": [
    {
     "name": "stdout",
     "output_type": "stream",
     "text": [
      "Saved at: data/outputs/masked_plaque/numpy/NA3777-02_AB_caa.png\n",
      "Saved at: data/outputs/masked_plaque/numpy/NA3777-02_AB_cored.png\n",
      "Saved at: data/outputs/masked_plaque/numpy/NA3777-02_AB_diffuse.png\n",
      "Saved at: data/outputs/masked_plaque/numpy/NA4077-02_AB_caa.png\n",
      "Saved at: data/outputs/masked_plaque/numpy/NA4077-02_AB_cored.png\n",
      "Saved at: data/outputs/masked_plaque/numpy/NA4077-02_AB_diffuse.png\n",
      "Saved at: data/outputs/masked_plaque/numpy/NA4092-02_AB_caa.png\n",
      "Saved at: data/outputs/masked_plaque/numpy/NA4092-02_AB_cored.png\n",
      "Saved at: data/outputs/masked_plaque/numpy/NA4092-02_AB_diffuse.png\n",
      "Saved at: data/outputs/masked_plaque/numpy/NA4107-02_AB_caa.png\n",
      "Saved at: data/outputs/masked_plaque/numpy/NA4107-02_AB_cored.png\n",
      "Saved at: data/outputs/masked_plaque/numpy/NA4107-02_AB_diffuse.png\n",
      "Saved at: data/outputs/masked_plaque/numpy/NA4160-02_AB_caa.png\n",
      "Saved at: data/outputs/masked_plaque/numpy/NA4160-02_AB_cored.png\n",
      "Saved at: data/outputs/masked_plaque/numpy/NA4160-02_AB_diffuse.png\n",
      "Saved at: data/outputs/masked_plaque/numpy/NA4195-02_AB_caa.png\n",
      "Saved at: data/outputs/masked_plaque/numpy/NA4195-02_AB_cored.png\n",
      "Saved at: data/outputs/masked_plaque/numpy/NA4195-02_AB_diffuse.png\n",
      "Saved at: data/outputs/masked_plaque/numpy/NA4256-02_AB_caa.png\n",
      "Saved at: data/outputs/masked_plaque/numpy/NA4256-02_AB_cored.png\n",
      "Saved at: data/outputs/masked_plaque/numpy/NA4256-02_AB_diffuse.png\n"
     ]
    },
    {
     "ename": "ValueError",
     "evalue": "cannot reshape array of size 1523584 into shape (2784,3648)",
     "output_type": "error",
     "traceback": [
      "\u001b[0;31m---------------------------------------------------------------------------\u001b[0m",
      "\u001b[0;31mValueError\u001b[0m                                Traceback (most recent call last)",
      "\u001b[0;32m<ipython-input-54-ca1d7c271df5>\u001b[0m in \u001b[0;36m<module>\u001b[0;34m\u001b[0m\n\u001b[1;32m      3\u001b[0m     \u001b[0;32mfor\u001b[0m \u001b[0mname\u001b[0m \u001b[0;32min\u001b[0m \u001b[0msorted\u001b[0m\u001b[0;34m(\u001b[0m\u001b[0mfiles\u001b[0m\u001b[0;34m)\u001b[0m \u001b[0;34m:\u001b[0m\u001b[0;34m\u001b[0m\u001b[0;34m\u001b[0m\u001b[0m\n\u001b[1;32m      4\u001b[0m         \u001b[0mfile_path\u001b[0m \u001b[0;34m=\u001b[0m \u001b[0mos\u001b[0m\u001b[0;34m.\u001b[0m\u001b[0mpath\u001b[0m\u001b[0;34m.\u001b[0m\u001b[0mjoin\u001b[0m\u001b[0;34m(\u001b[0m\u001b[0mroot\u001b[0m\u001b[0;34m,\u001b[0m \u001b[0mname\u001b[0m\u001b[0;34m)\u001b[0m\u001b[0;34m\u001b[0m\u001b[0;34m\u001b[0m\u001b[0m\n\u001b[0;32m----> 5\u001b[0;31m         \u001b[0mplaque_np\u001b[0m \u001b[0;34m=\u001b[0m \u001b[0mnp\u001b[0m\u001b[0;34m.\u001b[0m\u001b[0mload\u001b[0m\u001b[0;34m(\u001b[0m\u001b[0mfile_path\u001b[0m\u001b[0;34m,\u001b[0m \u001b[0mallow_pickle\u001b[0m\u001b[0;34m=\u001b[0m\u001b[0;32mTrue\u001b[0m\u001b[0;34m)\u001b[0m\u001b[0;34m\u001b[0m\u001b[0;34m\u001b[0m\u001b[0m\n\u001b[0m\u001b[1;32m      6\u001b[0m         \u001b[0msave_dir\u001b[0m \u001b[0;34m=\u001b[0m \u001b[0mos\u001b[0m\u001b[0;34m.\u001b[0m\u001b[0mpath\u001b[0m\u001b[0;34m.\u001b[0m\u001b[0msplitext\u001b[0m\u001b[0;34m(\u001b[0m\u001b[0mfile_path\u001b[0m\u001b[0;34m)\u001b[0m\u001b[0;34m[\u001b[0m\u001b[0;36m0\u001b[0m\u001b[0;34m]\u001b[0m \u001b[0;34m+\u001b[0m \u001b[0;34m\".png\"\u001b[0m\u001b[0;34m\u001b[0m\u001b[0;34m\u001b[0m\u001b[0m\n\u001b[1;32m      7\u001b[0m         \u001b[0msaveUniqueMaskImage\u001b[0m\u001b[0;34m(\u001b[0m\u001b[0mplaque_np\u001b[0m\u001b[0;34m,\u001b[0m \u001b[0msave_dir\u001b[0m\u001b[0;34m)\u001b[0m\u001b[0;34m\u001b[0m\u001b[0;34m\u001b[0m\u001b[0m\n",
      "\u001b[0;32m/usr/local/lib/python3.6/dist-packages/numpy/lib/npyio.py\u001b[0m in \u001b[0;36mload\u001b[0;34m(file, mmap_mode, allow_pickle, fix_imports, encoding)\u001b[0m\n\u001b[1;32m    438\u001b[0m             \u001b[0;32melse\u001b[0m\u001b[0;34m:\u001b[0m\u001b[0;34m\u001b[0m\u001b[0;34m\u001b[0m\u001b[0m\n\u001b[1;32m    439\u001b[0m                 return format.read_array(fid, allow_pickle=allow_pickle,\n\u001b[0;32m--> 440\u001b[0;31m                                          pickle_kwargs=pickle_kwargs)\n\u001b[0m\u001b[1;32m    441\u001b[0m         \u001b[0;32melse\u001b[0m\u001b[0;34m:\u001b[0m\u001b[0;34m\u001b[0m\u001b[0;34m\u001b[0m\u001b[0m\n\u001b[1;32m    442\u001b[0m             \u001b[0;31m# Try a pickle\u001b[0m\u001b[0;34m\u001b[0m\u001b[0;34m\u001b[0m\u001b[0;34m\u001b[0m\u001b[0m\n",
      "\u001b[0;32m/usr/local/lib/python3.6/dist-packages/numpy/lib/format.py\u001b[0m in \u001b[0;36mread_array\u001b[0;34m(fp, allow_pickle, pickle_kwargs)\u001b[0m\n\u001b[1;32m    769\u001b[0m             \u001b[0marray\u001b[0m \u001b[0;34m=\u001b[0m \u001b[0marray\u001b[0m\u001b[0;34m.\u001b[0m\u001b[0mtranspose\u001b[0m\u001b[0;34m(\u001b[0m\u001b[0;34m)\u001b[0m\u001b[0;34m\u001b[0m\u001b[0;34m\u001b[0m\u001b[0m\n\u001b[1;32m    770\u001b[0m         \u001b[0;32melse\u001b[0m\u001b[0;34m:\u001b[0m\u001b[0;34m\u001b[0m\u001b[0;34m\u001b[0m\u001b[0m\n\u001b[0;32m--> 771\u001b[0;31m             \u001b[0marray\u001b[0m\u001b[0;34m.\u001b[0m\u001b[0mshape\u001b[0m \u001b[0;34m=\u001b[0m \u001b[0mshape\u001b[0m\u001b[0;34m\u001b[0m\u001b[0;34m\u001b[0m\u001b[0m\n\u001b[0m\u001b[1;32m    772\u001b[0m \u001b[0;34m\u001b[0m\u001b[0m\n\u001b[1;32m    773\u001b[0m     \u001b[0;32mreturn\u001b[0m \u001b[0marray\u001b[0m\u001b[0;34m\u001b[0m\u001b[0;34m\u001b[0m\u001b[0m\n",
      "\u001b[0;31mValueError\u001b[0m: cannot reshape array of size 1523584 into shape (2784,3648)"
     ]
    }
   ],
   "source": [
    "import os\n",
    "for root, dirs, files in os.walk(SAVE_NP_DIR, topdown=False):\n",
    "    for name in sorted(files) :\n",
    "        file_path = os.path.join(root, name)\n",
    "        plaque_np = np.load(file_path, allow_pickle=True)\n",
    "        save_dir = os.path.splitext(file_path)[0] + \".png\"\n",
    "        saveUniqueMaskImage(plaque_np, save_dir)"
   ]
  },
  {
   "cell_type": "code",
   "execution_count": 40,
   "metadata": {},
   "outputs": [
    {
     "name": "stdout",
     "output_type": "stream",
     "text": [
      "Maximum Value =  2655\n",
      "[[[0. 0. 0.]\n",
      "  [0. 0. 0.]\n",
      "  [0. 0. 0.]\n",
      "  ...\n",
      "  [0. 0. 0.]\n",
      "  [0. 0. 0.]\n",
      "  [0. 0. 0.]]\n",
      "\n",
      " [[0. 0. 0.]\n",
      "  [0. 0. 0.]\n",
      "  [0. 0. 0.]\n",
      "  ...\n",
      "  [0. 0. 0.]\n",
      "  [0. 0. 0.]\n",
      "  [0. 0. 0.]]\n",
      "\n",
      " [[0. 0. 0.]\n",
      "  [0. 0. 0.]\n",
      "  [0. 0. 0.]\n",
      "  ...\n",
      "  [0. 0. 0.]\n",
      "  [0. 0. 0.]\n",
      "  [0. 0. 0.]]\n",
      "\n",
      " ...\n",
      "\n",
      " [[0. 0. 0.]\n",
      "  [0. 0. 0.]\n",
      "  [0. 0. 0.]\n",
      "  ...\n",
      "  [0. 0. 0.]\n",
      "  [0. 0. 0.]\n",
      "  [0. 0. 0.]]\n",
      "\n",
      " [[0. 0. 0.]\n",
      "  [0. 0. 0.]\n",
      "  [0. 0. 0.]\n",
      "  ...\n",
      "  [0. 0. 0.]\n",
      "  [0. 0. 0.]\n",
      "  [0. 0. 0.]]\n",
      "\n",
      " [[0. 0. 0.]\n",
      "  [0. 0. 0.]\n",
      "  [0. 0. 0.]\n",
      "  ...\n",
      "  [0. 0. 0.]\n",
      "  [0. 0. 0.]\n",
      "  [0. 0. 0.]]]\n",
      "Saved at: data/outputs/masked_plaque/numpy/NA3777-02_AB_cored.jpg\n"
     ]
    }
   ],
   "source": [
    "from skimage.color import hsv2rgb\n",
    "from PIL import Image\n",
    "\n",
    "max_val = np.amax(np.unique(inspect_plaque))\n",
    "print(\"Maximum Value = \", max_val)\n",
    "inspect_plaque = np.asarray(inspect_plaque, dtype=np.float64)\n",
    "inspect_plaque = np.repeat(inspect_plaque[:,:, np.newaxis], 3, axis=2)\n",
    "save_dir = SAVE_NP_DIR + filenames[0] + \"_cored.jpg\"\n",
    "\n",
    "for label in np.unique(inspect_plaque) :\n",
    "    \n",
    "    # For label 0, leave as black color\n",
    "    if label == 0:\n",
    "        continue\n",
    "    \n",
    "    idx = np.where(inspect_plaque[:,:,0] == label) \n",
    "\n",
    "    # For label, create HSV\n",
    "    inspect_plaque[:,:,0].flat[np.ravel_multi_index(idx, inspect_plaque[:,:,0].shape)] = label / max_val\n",
    "    inspect_plaque[:,:,1].flat[np.ravel_multi_index(idx, inspect_plaque[:,:,1].shape)] = label % max_val\n",
    "    inspect_plaque[:,:,2].flat[np.ravel_multi_index(idx, inspect_plaque[:,:,2].shape)] = 1\n",
    "    \n",
    "rgb_inspect_plaque = hsv2rgb(inspect_plaque)\n",
    "rgb_inspect_plaque = rgb_inspect_plaque * 255\n",
    "print(rgb_inspect_plaque)\n",
    "rgb_inspect_plaque = rgb_inspect_plaque.astype(np.uint8) # PIL save only accepts uint8 {0,..,255}\n",
    "save_img = Image.fromarray(rgb_inspect_plaque, 'RGB')\n",
    "save_img.save(save_dir)\n",
    "print(\"Saved at: \" + save_dir)\n",
    "    \n",
    "#     plaque_area = seg_area[plaque_loc]\n",
    "#     indexes, counts = np.unique(plaque_area, return_counts=True)\n",
    "#     class_idx = indexes[np.where(counts == np.amax(counts))]\n",
    "\n",
    "#     try:\n",
    "#         class_idx = class_idx.item()\n",
    "#         count_dict[class_idx] += 1\n",
    "\n",
    "#     except:\n",
    "#         uncounted += 1\n",
    "#         count_dict[\"uncounted\"] += 1"
   ]
  },
  {
   "cell_type": "code",
   "execution_count": 41,
   "metadata": {},
   "outputs": [
    {
     "name": "stdout",
     "output_type": "stream",
     "text": [
      "[  0   1   2   3   4   5   6   7   8   9  10  11  12  13  14  15  16  17\n",
      "  18  19  20  21  22  23  24  25  26  27  28  29  30  31  32  33  34  35\n",
      "  36  37  38  39  40  41  42  43  44  45  46  47  48  49  50  51  52  53\n",
      "  54  55  56  57  59  60  61  62  63  64  65  66  67  68  69  70  71  72\n",
      "  73  74  75  76  77  78  79  80  81  82  83  84  85  86  87  88  89  90\n",
      "  91  92  93  94  95  96  97  98  99 100 101 102 103 104 105 106 107 108\n",
      " 109 110 111 112 113 114 115 116 117 118 119 120 121 122 123 124 125 126\n",
      " 127 128 129 130 131 132 133 134 135 136 137 138 139 140 141 142 143 144\n",
      " 145 146 147 148 149 150 151 152 153 154 155 156 157 158 159 160 161 162\n",
      " 163 164 165 166 167 168 169 170 171 172 173 174 175 176 177 178 179 180\n",
      " 181 182 183 184 185 186 187 188 189 190 191 192 193 194 195 196 197 198\n",
      " 199 200 201 202 203 204 205 206 207 208 209 210 211 212 213 214 215 216\n",
      " 217 218 219 220 221 222 223 224 225 226 227 228 229 230 231 232 233 234\n",
      " 235 236 237 238 239 240 241 242 243 244 245 246 247 248 249 250 251 252\n",
      " 253 254 255]\n",
      "float64\n"
     ]
    }
   ],
   "source": [
    "print(np.unique(rgb_inspect_plaque))\n",
    "print(inspect_plaque.dtype)"
   ]
  },
  {
   "cell_type": "code",
   "execution_count": 26,
   "metadata": {},
   "outputs": [
    {
     "data": {
      "text/plain": [
       "(2976, 3456, 3, 3)"
      ]
     },
     "execution_count": 26,
     "metadata": {},
     "output_type": "execute_result"
    }
   ],
   "source": [
    "rgb_inspect_plaque.shape"
   ]
  },
  {
   "cell_type": "code",
   "execution_count": 15,
   "metadata": {
    "scrolled": true
   },
   "outputs": [
    {
     "ename": "NameError",
     "evalue": "name 'a' is not defined",
     "output_type": "error",
     "traceback": [
      "\u001b[0;31m---------------------------------------------------------------------------\u001b[0m",
      "\u001b[0;31mNameError\u001b[0m                                 Traceback (most recent call last)",
      "\u001b[0;32m<ipython-input-15-fe63b95df247>\u001b[0m in \u001b[0;36m<module>\u001b[0;34m\u001b[0m\n\u001b[0;32m----> 1\u001b[0;31m \u001b[0mprint\u001b[0m\u001b[0;34m(\u001b[0m\u001b[0mnp\u001b[0m\u001b[0;34m.\u001b[0m\u001b[0mwhere\u001b[0m\u001b[0;34m(\u001b[0m\u001b[0mnp\u001b[0m\u001b[0;34m.\u001b[0m\u001b[0masarray\u001b[0m\u001b[0;34m(\u001b[0m\u001b[0ma\u001b[0m\u001b[0;34m)\u001b[0m \u001b[0;34m==\u001b[0m \u001b[0;36m172\u001b[0m\u001b[0;34m)\u001b[0m\u001b[0;34m)\u001b[0m\u001b[0;34m\u001b[0m\u001b[0;34m\u001b[0m\u001b[0m\n\u001b[0m\u001b[1;32m      2\u001b[0m \u001b[0mprint\u001b[0m\u001b[0;34m(\u001b[0m\u001b[0mnp\u001b[0m\u001b[0;34m.\u001b[0m\u001b[0mwhere\u001b[0m\u001b[0;34m(\u001b[0m\u001b[0mnp\u001b[0m\u001b[0;34m.\u001b[0m\u001b[0masarray\u001b[0m\u001b[0;34m(\u001b[0m\u001b[0mm\u001b[0m\u001b[0;34m)\u001b[0m \u001b[0;34m==\u001b[0m \u001b[0;36m255\u001b[0m\u001b[0;34m)\u001b[0m\u001b[0;34m)\u001b[0m\u001b[0;34m\u001b[0m\u001b[0;34m\u001b[0m\u001b[0m\n",
      "\u001b[0;31mNameError\u001b[0m: name 'a' is not defined"
     ]
    }
   ],
   "source": [
    "print(np.where(np.asarray(a) == 172))\n",
    "print(np.where(np.asarray(m) == 255))"
   ]
  },
  {
   "cell_type": "code",
   "execution_count": 79,
   "metadata": {},
   "outputs": [
    {
     "name": "stdout",
     "output_type": "stream",
     "text": [
      "Saved at: data/outputs/masked_plaque/images/NA3777-02_AB_cored.png\n"
     ]
    }
   ],
   "source": [
    "save_img = SAVE_IMG_DIR + WSIname \\\n",
    "                    + \"_\" + img_class[index] + \".png\"\n",
    "save_np = SAVE_NP_DIR + WSIname \\\n",
    "                    + \"_\" + img_class[index] + \".npy\"\n",
    "# np.save(save_np, labeled_mask)\n",
    "saveMask(img_mask, save_img)"
   ]
  },
  {
   "cell_type": "code",
   "execution_count": null,
   "metadata": {},
   "outputs": [],
   "source": [
    "# Original Code\n",
    "def count_blobs(mask,\n",
    "               threshold=1500):\n",
    "    labels = measure.label(mask, neighbors=8, background=0)\n",
    "    new_mask = np.zeros(mask.shape, dtype='uint8')\n",
    "    sizes = []\n",
    "    \n",
    "    # loop over the unique components\n",
    "    for label in np.unique(labels):\n",
    "        # if this is the background label, ignore it\n",
    "        if label == 0:\n",
    "            continue\n",
    "        # otherwise, construct the label mask and count the\n",
    "        # number of pixels \n",
    "        labelMask = np.zeros(mask.shape, dtype=\"uint8\")\n",
    "        labelMask[labels == label] = 255\n",
    "        numPixels = cv2.countNonZero(labelMask)\n",
    "        \n",
    "        # if the number of pixels in the component is sufficiently\n",
    "        # large, then add it to our mask of \"large blobs\"\n",
    "        if numPixels > threshold:\n",
    "            sizes.append(numPixels)\n",
    "            new_mask = cv2.add(new_mask, labelMask)\n",
    "\n",
    "    return sizes, new_mask"
   ]
  },
  {
   "cell_type": "code",
   "execution_count": null,
   "metadata": {},
   "outputs": [],
   "source": [
    "# Original Code\n",
    "new_file = file\n",
    "for index in [0,1,2]:\n",
    "    preds = np.zeros(len(file))\n",
    "    confidence_threshold = confidence_thresholds[index]\n",
    "    pixel_threshold = pixel_thresholds[index]\n",
    "\n",
    "    for i, WSIname in tqdm(enumerate(filenames)):\n",
    "        try:\n",
    "            heatmap_path = HEATMAP_DIR+'new_WSI_heatmap_{}.npy'.format(WSIname)\n",
    "            h = np.load(heatmap_path)\n",
    "\n",
    "        except:\n",
    "            heatmap_path = HEATMAP_DIR+'{}.npy'.format(WSIname)\n",
    "            h = np.load(heatmap_path)\n",
    "\n",
    "        mask = h[index] > confidence_threshold\n",
    "        mask = mask.astype(np.float32)\n",
    "\n",
    "        kernel = cv2.getStructuringElement(cv2.MORPH_CROSS,(5,5))\n",
    "\n",
    "        # Apply morphological closing, then opening operations \n",
    "        opening = cv2.morphologyEx(mask, cv2.MORPH_OPEN, kernel)\n",
    "        closing = cv2.morphologyEx(opening, cv2.MORPH_CLOSE, kernel)\n",
    "\n",
    "        a, m = count_blobs(closing, threshold=pixel_threshold)\n",
    "\n",
    "        preds[i] = len(a)\n",
    "\n",
    "    print(confidence_threshold, pixel_threshold)\n",
    "\n",
    "    new_file['CNN_{}_count'.format(img_class[index])] = preds\n",
    "\n",
    "new_file.to_csv(SAVE_DIR+'CNN_vs_CERAD.csv', index=False)"
   ]
  },
  {
   "cell_type": "code",
   "execution_count": 6,
   "metadata": {
    "scrolled": true
   },
   "outputs": [
    {
     "ename": "NameError",
     "evalue": "name 'new_file' is not defined",
     "output_type": "error",
     "traceback": [
      "\u001b[0;31m---------------------------------------------------------------------------\u001b[0m",
      "\u001b[0;31mNameError\u001b[0m                                 Traceback (most recent call last)",
      "\u001b[0;32m<ipython-input-6-a49fd5a864aa>\u001b[0m in \u001b[0;36m<module>\u001b[0;34m\u001b[0m\n\u001b[0;32m----> 1\u001b[0;31m \u001b[0mnew_file\u001b[0m\u001b[0;34m\u001b[0m\u001b[0;34m\u001b[0m\u001b[0m\n\u001b[0m",
      "\u001b[0;31mNameError\u001b[0m: name 'new_file' is not defined"
     ]
    }
   ],
   "source": [
    "new_file"
   ]
  },
  {
   "cell_type": "code",
   "execution_count": null,
   "metadata": {},
   "outputs": [],
   "source": []
  }
 ],
 "metadata": {
  "kernelspec": {
   "display_name": "Python 3",
   "language": "python",
   "name": "python3"
  },
  "language_info": {
   "codemirror_mode": {
    "name": "ipython",
    "version": 3
   },
   "file_extension": ".py",
   "mimetype": "text/x-python",
   "name": "python",
   "nbconvert_exporter": "python",
   "pygments_lexer": "ipython3",
   "version": "3.6.9"
  }
 },
 "nbformat": 4,
 "nbformat_minor": 2
}
